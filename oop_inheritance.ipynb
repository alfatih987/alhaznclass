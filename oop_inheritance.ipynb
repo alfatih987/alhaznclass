{
  "nbformat": 4,
  "nbformat_minor": 0,
  "metadata": {
    "colab": {
      "provenance": [],
      "authorship_tag": "ABX9TyN13n7xSkDZp0JD3dgYjIeq",
      "include_colab_link": true
    },
    "kernelspec": {
      "name": "python3",
      "display_name": "Python 3"
    },
    "language_info": {
      "name": "python"
    }
  },
  "cells": [
    {
      "cell_type": "markdown",
      "metadata": {
        "id": "view-in-github",
        "colab_type": "text"
      },
      "source": [
        "<a href=\"https://colab.research.google.com/github/alfatih987/alhaznclass/blob/main/oop_inheritance.ipynb\" target=\"_parent\"><img src=\"https://colab.research.google.com/assets/colab-badge.svg\" alt=\"Open In Colab\"/></a>"
      ]
    },
    {
      "cell_type": "code",
      "execution_count": 10,
      "metadata": {
        "colab": {
          "base_uri": "https://localhost:8080/"
        },
        "id": "m0pbb9BeW2-j",
        "outputId": "1d4df3cd-9d66-479f-d544-4191dab434ac"
      },
      "outputs": [
        {
          "output_type": "execute_result",
          "data": {
            "text/plain": [
              "16000000"
            ]
          },
          "metadata": {},
          "execution_count": 10
        }
      ],
      "source": [
        "class karyawan:\n",
        "  project = 1000000\n",
        "\n",
        "  def __init__(self, nama, usia, pendapatan):\n",
        "    self.nama = nama\n",
        "    self.usia = usia\n",
        "    self.pendapatan = pendapatan\n",
        "    self.pendapatan_tambahan = 0\n",
        "  def b(self):\n",
        "    self.pendapatan_tambahan += self.project\n",
        "  def pendapatan_freelance(self, project):\n",
        "    self.pendapatan_tambahan += freelance\n",
        "  def total_pendapatan(self):\n",
        "    return self.pendapatan + self.pendapatan_tambahan\n",
        "\n",
        "class fullstack(karyawan):\n",
        "  def __init__(self, nama, usia, pendapatan):\n",
        "    super().__init__(nama, usia, pendapatan)\n",
        "class mobile_developer(karyawan):\n",
        "  def __init__(self, nama, usia, pendapatan):\n",
        "    super().__init__(nama, usia, pendapatan)\n",
        "\n",
        "a = fullstack('fatih', 20, 15000000,)\n",
        "a.b()\n",
        "a.total_pendapatan()\n",
        "\n",
        "\n"
      ]
    },
    {
      "cell_type": "code",
      "source": [
        "class fruit:\n",
        "  def __init__(self,nama,warna):\n",
        "    self.nama = nama\n",
        "    self.warna = warna\n",
        "  def a(self):\n",
        "    return self.nama\n",
        "  def b(self):\n",
        "    return self.warna\n",
        "c = fruit('apple', 'merah')\n",
        "print(c.b())"
      ],
      "metadata": {
        "id": "fNJw5wKbXyiC",
        "colab": {
          "base_uri": "https://localhost:8080/"
        },
        "outputId": "ce9b8629-f555-4c01-ffde-59a8e392a18b"
      },
      "execution_count": 9,
      "outputs": [
        {
          "output_type": "stream",
          "name": "stdout",
          "text": [
            "merah\n"
          ]
        }
      ]
    }
  ]
}