{
  "nbformat": 4,
  "nbformat_minor": 0,
  "metadata": {
    "colab": {
      "provenance": [],
      "authorship_tag": "ABX9TyNZCQbFzxbWBQmj4CfYPJZA",
      "include_colab_link": true
    },
    "kernelspec": {
      "name": "python3",
      "display_name": "Python 3"
    },
    "language_info": {
      "name": "python"
    }
  },
  "cells": [
    {
      "cell_type": "markdown",
      "metadata": {
        "id": "view-in-github",
        "colab_type": "text"
      },
      "source": [
        "<a href=\"https://colab.research.google.com/github/alfatih987/alhaznclass/blob/main/login_page.ipynb\" target=\"_parent\"><img src=\"https://colab.research.google.com/assets/colab-badge.svg\" alt=\"Open In Colab\"/></a>"
      ]
    },
    {
      "cell_type": "code",
      "execution_count": 4,
      "metadata": {
        "colab": {
          "base_uri": "https://localhost:8080/",
          "height": 235
        },
        "id": "bko2JqnzbO07",
        "outputId": "791c4eaa-84fd-4852-ede0-b4b070dcfcc9"
      },
      "outputs": [
        {
          "name": "stdout",
          "output_type": "stream",
          "text": [
            "ps input your name\n",
            "None1\n",
            "ps input your age\n",
            "None1\n",
            "ps input your adress\n",
            "None1\n"
          ]
        },
        {
          "output_type": "error",
          "ename": "SyntaxError",
          "evalue": "ignored",
          "traceback": [
            "\u001b[0;36m  File \u001b[0;32m\"<ipython-input-4-5b7354d92304>\"\u001b[0;36m, line \u001b[0;32m7\u001b[0m\n\u001b[0;31m    return b\u001b[0m\n\u001b[0m    ^\u001b[0m\n\u001b[0;31mSyntaxError\u001b[0m\u001b[0;31m:\u001b[0m 'return' outside function\n"
          ]
        }
      ],
      "source": [
        "a = ['muhammad alfatih wibowo','13','newyork city block b']\n",
        "b = str(input(print('ps input your name')))\n",
        "c = str(input(print('ps input your age')))\n",
        "d = str(input(print('ps input your adress')))\n",
        "if b == a[0] and c == a[1] and d == a[2]:\n",
        "  print('login sucsessfull')\n",
        "  \n",
        "else:\n",
        "  print('log in failed')\n",
        "  \n"
      ]
    }
  ]
}