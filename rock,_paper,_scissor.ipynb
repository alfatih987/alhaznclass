{
  "nbformat": 4,
  "nbformat_minor": 0,
  "metadata": {
    "colab": {
      "provenance": [],
      "authorship_tag": "ABX9TyOBUtUzX7cKvohatTikOCdK",
      "include_colab_link": true
    },
    "kernelspec": {
      "name": "python3",
      "display_name": "Python 3"
    },
    "language_info": {
      "name": "python"
    }
  },
  "cells": [
    {
      "cell_type": "markdown",
      "metadata": {
        "id": "view-in-github",
        "colab_type": "text"
      },
      "source": [
        "<a href=\"https://colab.research.google.com/github/alfatih987/alhaznclass/blob/main/rock%2C_paper%2C_scissor.ipynb\" target=\"_parent\"><img src=\"https://colab.research.google.com/assets/colab-badge.svg\" alt=\"Open In Colab\"/></a>"
      ]
    },
    {
      "cell_type": "code",
      "execution_count": 4,
      "metadata": {
        "colab": {
          "base_uri": "https://localhost:8080/"
        },
        "id": "ZDlTFzv7FCGs",
        "outputId": "252b7c51-e7e5-4963-b8b3-846013cb97a7"
      },
      "outputs": [
        {
          "output_type": "stream",
          "name": "stdout",
          "text": [
            "welcome to rock, paper, scissor\n",
            "pls input rock, paper, and scissor\n",
            "Nonepaper\n",
            "your choice is  paper\n",
            "computer choice is  rock\n",
            "you win\n"
          ]
        }
      ],
      "source": [
        "print('welcome to rock, paper, scissor')\n",
        "from random import randint\n",
        "t = ['rock','paper','scissor']\n",
        "l = t[randint(0,2)]\n",
        "o = str(input(print('pls input rock, paper, and scissor')))\n",
        "print('your choice is ',o)\n",
        "print('computer choice is ', l)\n",
        "if o == l :\n",
        "  print('tie')\n",
        "elif o == 'rock':\n",
        "  if l == 'paper':\n",
        "    print('you lose',o, 'covers', l)\n",
        "  else:\n",
        "    print('you win')\n",
        "elif o == 'paper':\n",
        "  if l == 'scissor':\n",
        "    print('you lose',o, 'cut', l)\n",
        "  else:\n",
        "    print('you win')\n",
        "elif o == 'scissor':\n",
        "  if l == 'rock':\n",
        "    print('you lose',o, 'smash', l)\n",
        "  else:\n",
        "    print('you win')\n",
        "else:\n",
        "  print('not valid game')"
      ]
    }
  ]
}