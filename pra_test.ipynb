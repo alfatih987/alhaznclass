{
  "nbformat": 4,
  "nbformat_minor": 0,
  "metadata": {
    "colab": {
      "provenance": [],
      "authorship_tag": "ABX9TyM26iXTiDItNNIdgIskhpsz",
      "include_colab_link": true
    },
    "kernelspec": {
      "name": "python3",
      "display_name": "Python 3"
    },
    "language_info": {
      "name": "python"
    }
  },
  "cells": [
    {
      "cell_type": "markdown",
      "metadata": {
        "id": "view-in-github",
        "colab_type": "text"
      },
      "source": [
        "<a href=\"https://colab.research.google.com/github/alfatih987/alhaznclass/blob/main/pra_test.ipynb\" target=\"_parent\"><img src=\"https://colab.research.google.com/assets/colab-badge.svg\" alt=\"Open In Colab\"/></a>"
      ]
    },
    {
      "cell_type": "code",
      "execution_count": 4,
      "metadata": {
        "id": "d0akWgCd1D7A",
        "colab": {
          "base_uri": "https://localhost:8080/"
        },
        "outputId": "eac3abbd-b4cd-40c0-e89e-86a0bedefe56"
      },
      "outputs": [
        {
          "output_type": "stream",
          "name": "stdout",
          "text": [
            "input convertion of kelvin\n",
            "input cenvertion of celsius\n",
            "input cenvertion of fahrenheit\n",
            "choose one\n",
            "Nonekelvin\n",
            "how much value do you want to add to kelvin\n",
            "None1000\n",
            "your celsius is 727\n",
            "1341.0\n",
            "None\n"
          ]
        }
      ],
      "source": [
        "def kelvin(k):\n",
        "  c = k - 273\n",
        "  print('your celsius is',c)\n",
        "  f = k * 1.8 - 459\n",
        "  print(f)\n",
        "def celsius(c):\n",
        "  f = 1.8 * c + 32\n",
        "  k = c + 273\n",
        "def fahrenheit(f):\n",
        "  c = f - 32 * 1.8\n",
        "  k = f + 459\n",
        "\n",
        "print('input convertion of kelvin')\n",
        "print('input cenvertion of celsius')\n",
        "print('input cenvertion of fahrenheit')\n",
        "a = str(input(print('choose one')))\n",
        "if a == 'kelvin':\n",
        "  k = int(input(print('how much value do you want to add to kelvin')))\n",
        "  print(kelvin(k))\n",
        "  \n",
        "\n",
        "\n",
        "  \n",
        "  \n",
        "  \n",
        "  \n",
        "\n"
      ]
    },
    {
      "cell_type": "code",
      "source": [
        "print(9 / 5)"
      ],
      "metadata": {
        "colab": {
          "base_uri": "https://localhost:8080/"
        },
        "id": "ZHIhaAcp99W_",
        "outputId": "73c74ec6-d3b6-4fbe-8d6c-c4d55c7ce1f6"
      },
      "execution_count": null,
      "outputs": [
        {
          "output_type": "stream",
          "name": "stdout",
          "text": [
            "1.8\n"
          ]
        }
      ]
    }
  ]
}