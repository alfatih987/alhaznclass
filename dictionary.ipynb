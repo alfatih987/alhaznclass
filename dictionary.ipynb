{
  "nbformat": 4,
  "nbformat_minor": 0,
  "metadata": {
    "colab": {
      "provenance": [],
      "authorship_tag": "ABX9TyPnYWq7SXTK6C7k2pII/un7",
      "include_colab_link": true
    },
    "kernelspec": {
      "name": "python3",
      "display_name": "Python 3"
    },
    "language_info": {
      "name": "python"
    }
  },
  "cells": [
    {
      "cell_type": "markdown",
      "metadata": {
        "id": "view-in-github",
        "colab_type": "text"
      },
      "source": [
        "<a href=\"https://colab.research.google.com/github/alfatih987/alhaznclass/blob/main/dictionary.ipynb\" target=\"_parent\"><img src=\"https://colab.research.google.com/assets/colab-badge.svg\" alt=\"Open In Colab\"/></a>"
      ]
    },
    {
      "cell_type": "code",
      "execution_count": 19,
      "metadata": {
        "colab": {
          "base_uri": "https://localhost:8080/"
        },
        "id": "OC2dlrmiCeCO",
        "outputId": "63e6cf0b-cac3-4b3a-f8eb-29c701ba2963"
      },
      "outputs": [
        {
          "output_type": "stream",
          "name": "stdout",
          "text": [
            "{'game': 'roblox', 'fav caracter': 'eldertree', 'device': 'Xbox,PC,mac,mobile'}\n",
            "{'game': 'valorant', 'fav caracter': 'skye', 'device': 'Pc'}\n",
            "{'game': 'mobile legends', 'fav caracter': 'martis', 'device': 'mobile,PC'}\n",
            "['mobile legends', 'martis', 'mobile,PC'] ['roblox', 'eldertree', 'Xbox,PC,mac,mobile'] ['valorant', 'skye', 'Pc']\n",
            "['game', 'fav caracter', 'device']\n"
          ]
        }
      ],
      "source": [
        "a = {'game' : 'valorant',\n",
        "     'fav caracter' : 'skye',\n",
        "     'device' : 'Pc'}\n",
        "b = a.copy()\n",
        "b['game'] = 'roblox'\n",
        "b['fav caracter'] = 'eldertree'\n",
        "b['device'] = 'Xbox,PC,mac,mobile'\n",
        "print(b)\n",
        "print(a)\n",
        "\n",
        "c = b.copy()\n",
        "c['game'] = 'mobile legends'\n",
        "c['fav caracter'] = 'martis'\n",
        "c['device'] = 'mobile,PC'\n",
        "print(c)\n",
        "\n",
        "d = list(c.values())\n",
        "e = list(b.values())\n",
        "f = list(a.values())\n",
        "print(d, e, f)\n",
        "\n",
        "g = list(c.keys())\n",
        "print(g)"
      ]
    }
  ]
}