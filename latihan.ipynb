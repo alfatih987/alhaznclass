{
  "nbformat": 4,
  "nbformat_minor": 0,
  "metadata": {
    "colab": {
      "provenance": [],
      "authorship_tag": "ABX9TyNZtotWpDIO94OcdnquZ0bj",
      "include_colab_link": true
    },
    "kernelspec": {
      "name": "python3",
      "display_name": "Python 3"
    },
    "language_info": {
      "name": "python"
    }
  },
  "cells": [
    {
      "cell_type": "markdown",
      "metadata": {
        "id": "view-in-github",
        "colab_type": "text"
      },
      "source": [
        "<a href=\"https://colab.research.google.com/github/alfatih987/alhaznclass/blob/main/latihan.ipynb\" target=\"_parent\"><img src=\"https://colab.research.google.com/assets/colab-badge.svg\" alt=\"Open In Colab\"/></a>"
      ]
    },
    {
      "cell_type": "code",
      "execution_count": 8,
      "metadata": {
        "colab": {
          "base_uri": "https://localhost:8080/"
        },
        "id": "lOsAgFS1dp7x",
        "outputId": "1e1dac29-e732-406b-faf4-9d95eaed4b66"
      },
      "outputs": [
        {
          "output_type": "stream",
          "name": "stdout",
          "text": [
            "independent idpn tdp dependent\n"
          ]
        }
      ],
      "source": [
        "#string\n",
        "a = 'independent'\n",
        "b = a[0 : 7 : 2]\n",
        "c = a[-1 : -10 : -3]\n",
        "d = a[2 :]\n",
        "print(a,b,c,d)"
      ]
    },
    {
      "cell_type": "code",
      "source": [
        "a = (1,2,3,4,5,6,7)\n",
        "a[1 : 6 : 2]"
      ],
      "metadata": {
        "colab": {
          "base_uri": "https://localhost:8080/"
        },
        "id": "YrkArevrfYVc",
        "outputId": "848e3a1d-df32-4eb0-86c9-1788ed775ce0"
      },
      "execution_count": 10,
      "outputs": [
        {
          "output_type": "execute_result",
          "data": {
            "text/plain": [
              "(2, 4, 6)"
            ]
          },
          "metadata": {},
          "execution_count": 10
        }
      ]
    }
  ]
}