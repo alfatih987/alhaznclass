{
  "nbformat": 4,
  "nbformat_minor": 0,
  "metadata": {
    "colab": {
      "provenance": [],
      "authorship_tag": "ABX9TyPCP3VWkyPD2xJeJlC44/+/",
      "include_colab_link": true
    },
    "kernelspec": {
      "name": "python3",
      "display_name": "Python 3"
    },
    "language_info": {
      "name": "python"
    }
  },
  "cells": [
    {
      "cell_type": "markdown",
      "metadata": {
        "id": "view-in-github",
        "colab_type": "text"
      },
      "source": [
        "<a href=\"https://colab.research.google.com/github/alfatih987/alhaznclass/blob/main/class_%26_object.ipynb\" target=\"_parent\"><img src=\"https://colab.research.google.com/assets/colab-badge.svg\" alt=\"Open In Colab\"/></a>"
      ]
    },
    {
      "cell_type": "code",
      "execution_count": 16,
      "metadata": {
        "colab": {
          "base_uri": "https://localhost:8080/",
          "height": 201
        },
        "id": "idy2nfU4RcxR",
        "outputId": "a2853ae6-7cef-4811-9817-b39b471c2dab"
      },
      "outputs": [
        {
          "output_type": "error",
          "ename": "AttributeError",
          "evalue": "ignored",
          "traceback": [
            "\u001b[0;31m---------------------------------------------------------------------------\u001b[0m",
            "\u001b[0;31mAttributeError\u001b[0m                            Traceback (most recent call last)",
            "\u001b[0;32m<ipython-input-16-2a1b89455dd6>\u001b[0m in \u001b[0;36m<module>\u001b[0;34m\u001b[0m\n\u001b[1;32m     12\u001b[0m \u001b[0;34m\u001b[0m\u001b[0m\n\u001b[1;32m     13\u001b[0m \u001b[0mobject1\u001b[0m \u001b[0;34m=\u001b[0m \u001b[0;34m(\u001b[0m\u001b[0;34m'valorant'\u001b[0m\u001b[0;34m,\u001b[0m\u001b[0;34m'initiator'\u001b[0m\u001b[0;34m,\u001b[0m\u001b[0;34m'PC'\u001b[0m\u001b[0;34m)\u001b[0m\u001b[0;34m\u001b[0m\u001b[0;34m\u001b[0m\u001b[0m\n\u001b[0;32m---> 14\u001b[0;31m \u001b[0mprint\u001b[0m\u001b[0;34m(\u001b[0m\u001b[0mobject1\u001b[0m\u001b[0;34m.\u001b[0m\u001b[0ma\u001b[0m\u001b[0;34m(\u001b[0m\u001b[0;34m)\u001b[0m\u001b[0;34m)\u001b[0m\u001b[0;34m\u001b[0m\u001b[0;34m\u001b[0m\u001b[0m\n\u001b[0m",
            "\u001b[0;31mAttributeError\u001b[0m: 'tuple' object has no attribute 'a'"
          ]
        }
      ],
      "source": [
        "class game:\n",
        "  def __init__(self , name , role , device):\n",
        "    self.name = name\n",
        "    self.role = role\n",
        "    self.device = device\n",
        "  def a(self):\n",
        "    b = str((self.name) + ('is a game'))\n",
        "    return(b)\n",
        "  def c(self):\n",
        "    d = str((self.name) + ('can be play together'))\n",
        "    return(d)\n",
        "\n",
        "object1 = ('valorant','initiator','PC')\n",
        "print(object1.a())\n"
      ]
    },
    {
      "cell_type": "code",
      "source": [
        "class person:\n",
        "    def __init__(self,name,age,hair):\n",
        "      self.name = name\n",
        "      self.age = age\n",
        "      self.hair = hair\n",
        "  def eat(self):\n",
        "    b = str(self.name) + ('is a game')\n",
        "    return(eat)\n",
        "  def drink(self):\n",
        "    d = str(self.name) + ('can be play together')\n",
        "    return)\n",
        "class gameplay(person):\n",
        "  pass\n",
        "object1 = gameplay('valorant','initiator','PC')\n",
        "f = object1.__class__.__name__\n",
        "print(f)"
      ],
      "metadata": {
        "id": "3ErDQgeYXF8e"
      },
      "execution_count": null,
      "outputs": []
    }
  ]
}