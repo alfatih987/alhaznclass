{
  "nbformat": 4,
  "nbformat_minor": 0,
  "metadata": {
    "colab": {
      "provenance": [],
      "authorship_tag": "ABX9TyOY6xgig95XFn1fqwpDlYZz",
      "include_colab_link": true
    },
    "kernelspec": {
      "name": "python3",
      "display_name": "Python 3"
    },
    "language_info": {
      "name": "python"
    }
  },
  "cells": [
    {
      "cell_type": "markdown",
      "metadata": {
        "id": "view-in-github",
        "colab_type": "text"
      },
      "source": [
        "<a href=\"https://colab.research.google.com/github/alfatih987/alhaznclass/blob/main/class_%26_object.ipynb\" target=\"_parent\"><img src=\"https://colab.research.google.com/assets/colab-badge.svg\" alt=\"Open In Colab\"/></a>"
      ]
    },
    {
      "cell_type": "code",
      "execution_count": null,
      "metadata": {
        "colab": {
          "base_uri": "https://localhost:8080/"
        },
        "id": "idy2nfU4RcxR",
        "outputId": "0e7faa61-11e2-4b94-b645-7cbc4b91f37f"
      },
      "outputs": [
        {
          "output_type": "stream",
          "name": "stdout",
          "text": [
            "first person is playing gameplay\n"
          ]
        }
      ],
      "source": [
        "class game:\n",
        "  def __init__(self , name , role , device):\n",
        "    self.name = name\n",
        "    self.role = role\n",
        "    self.device = device\n",
        "  def a(self):\n",
        "    b = str(self.name) + ('is a game')\n",
        "    return(b)\n",
        "  def c(self):\n",
        "    d = str(self.name) + ('can be play together')\n",
        "    return(d)\n",
        "class gameplay(game):\n",
        "  pass\n",
        "object1 = gameplay('valorant','initiator','PC')\n",
        "f = object1.__class__.__name__\n",
        "print('first person is playing', f)"
      ]
    },
    {
      "cell_type": "code",
      "source": [
        "class person:\n",
        "    def __init__(self,name,age,hair):\n",
        "      self.name = name\n",
        "      self.age = age\n",
        "      self.hair = hair\n",
        "  def eat(self):\n",
        "    b = str(self.name) + ('is a game')\n",
        "    return(eat)\n",
        "  def drink(self):\n",
        "    d = str(self.name) + ('can be play together')\n",
        "    return)\n",
        "class gameplay(person):\n",
        "  pass\n",
        "object1 = gameplay('valorant','initiator','PC')\n",
        "f = object1.__class__.__name__\n",
        "print(f)"
      ],
      "metadata": {
        "id": "3ErDQgeYXF8e"
      },
      "execution_count": null,
      "outputs": []
    }
  ]
}