{
  "nbformat": 4,
  "nbformat_minor": 0,
  "metadata": {
    "colab": {
      "provenance": [],
      "authorship_tag": "ABX9TyMfxVaZVIHijdk+2RCCv+17",
      "include_colab_link": true
    },
    "kernelspec": {
      "name": "python3",
      "display_name": "Python 3"
    },
    "language_info": {
      "name": "python"
    }
  },
  "cells": [
    {
      "cell_type": "markdown",
      "metadata": {
        "id": "view-in-github",
        "colab_type": "text"
      },
      "source": [
        "<a href=\"https://colab.research.google.com/github/alfatih987/alhaznclass/blob/main/mini_calculator.ipynb\" target=\"_parent\"><img src=\"https://colab.research.google.com/assets/colab-badge.svg\" alt=\"Open In Colab\"/></a>"
      ]
    },
    {
      "cell_type": "code",
      "execution_count": 11,
      "metadata": {
        "colab": {
          "base_uri": "https://localhost:8080/"
        },
        "id": "73_R06fvDvpn",
        "outputId": "bb838a1e-df03-4f9e-8b22-e99a4c1e588c"
      },
      "outputs": [
        {
          "output_type": "stream",
          "name": "stdout",
          "text": [
            "what kind of calculation do you want to have\n",
            "None+\n",
            "insert your first number\n",
            "None2\n",
            "insert your second number\n",
            "None2\n",
            "hasil nya adalah 4\n"
          ]
        }
      ],
      "source": [
        "a = str(input(print('what kind of calculation do you want to have')))\n",
        "b = int(input(print('insert your first number')))\n",
        "c = int(input(print('insert your second number')))\n",
        "if a == '+':\n",
        "  d = b + c\n",
        "if a == '-':\n",
        "  d = b - c\n",
        "if a == 'x':\n",
        "  d = b * c\n",
        "if a == '/':\n",
        "  d = b / c\n",
        "print('hasil nya adalah',d)"
      ]
    }
  ]
}