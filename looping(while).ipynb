{
  "nbformat": 4,
  "nbformat_minor": 0,
  "metadata": {
    "colab": {
      "provenance": [],
      "authorship_tag": "ABX9TyOtGT2c1brge40+eoYnLFPW",
      "include_colab_link": true
    },
    "kernelspec": {
      "name": "python3",
      "display_name": "Python 3"
    },
    "language_info": {
      "name": "python"
    }
  },
  "cells": [
    {
      "cell_type": "markdown",
      "metadata": {
        "id": "view-in-github",
        "colab_type": "text"
      },
      "source": [
        "<a href=\"https://colab.research.google.com/github/alfatih987/alhaznclass/blob/main/looping(while).ipynb\" target=\"_parent\"><img src=\"https://colab.research.google.com/assets/colab-badge.svg\" alt=\"Open In Colab\"/></a>"
      ]
    },
    {
      "cell_type": "code",
      "execution_count": 2,
      "metadata": {
        "colab": {
          "base_uri": "https://localhost:8080/"
        },
        "id": "HO9GlkyYeq68",
        "outputId": "bfbfdbdf-2206-4479-e9f3-92293f886ee0"
      },
      "outputs": [
        {
          "output_type": "stream",
          "name": "stdout",
          "text": [
            "pls input your number\n",
            "None7\n",
            "your factorial of 7 is 5040\n"
          ]
        }
      ],
      "source": [
        "a = int(input(print('pls input your number')))\n",
        "\n",
        "b = 1\n",
        "c = 1\n",
        "\n",
        "while c <= a:\n",
        "  b = b * c\n",
        "  c = c + 1\n",
        "print('your factorial of', a, 'is', b)\n",
        "\n"
      ]
    },
    {
      "cell_type": "code",
      "source": [
        "a = int(input(print('pls input your multiplication table')))\n",
        "b = 0\n",
        "while b <= a:\n",
        "  b += 1\n",
        "  print(a, 'x' , b ,'=', a*b)"
      ],
      "metadata": {
        "colab": {
          "base_uri": "https://localhost:8080/"
        },
        "id": "Rl5XyRJfhLsy",
        "outputId": "4941dad9-ff8c-419d-f51d-1c9ac33c2101"
      },
      "execution_count": 5,
      "outputs": [
        {
          "output_type": "stream",
          "name": "stdout",
          "text": [
            "pls input your multiplication table\n",
            "None3\n",
            "3 x 1 = 3\n",
            "3 x 2 = 6\n",
            "3 x 3 = 9\n",
            "3 x 4 = 12\n"
          ]
        }
      ]
    },
    {
      "cell_type": "code",
      "source": [
        "a = int(input(print('pls input your aditional table')))\n",
        "b = 0\n",
        "while b <= a:\n",
        "  b += 5\n",
        "  print(a, '+', b, '=', a + b)"
      ],
      "metadata": {
        "colab": {
          "base_uri": "https://localhost:8080/"
        },
        "id": "bAUwCa1QiyI5",
        "outputId": "2053978a-ba1d-49fa-9309-f1198c6bec5d"
      },
      "execution_count": 9,
      "outputs": [
        {
          "output_type": "stream",
          "name": "stdout",
          "text": [
            "pls input your aditional table\n",
            "None20\n",
            "20 + 5 = 25\n",
            "20 + 10 = 30\n",
            "20 + 15 = 35\n",
            "20 + 20 = 40\n",
            "20 + 25 = 45\n"
          ]
        }
      ]
    }
  ]
}