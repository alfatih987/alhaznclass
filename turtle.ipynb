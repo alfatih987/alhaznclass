{
  "nbformat": 4,
  "nbformat_minor": 0,
  "metadata": {
    "colab": {
      "provenance": [],
      "authorship_tag": "ABX9TyOnrRU26QBHk0hfVWNlhnow",
      "include_colab_link": true
    },
    "kernelspec": {
      "name": "python3",
      "display_name": "Python 3"
    },
    "language_info": {
      "name": "python"
    }
  },
  "cells": [
    {
      "cell_type": "markdown",
      "metadata": {
        "id": "view-in-github",
        "colab_type": "text"
      },
      "source": [
        "<a href=\"https://colab.research.google.com/github/alfatih987/alhaznclass/blob/main/turtle.ipynb\" target=\"_parent\"><img src=\"https://colab.research.google.com/assets/colab-badge.svg\" alt=\"Open In Colab\"/></a>"
      ]
    },
    {
      "cell_type": "code",
      "execution_count": 1,
      "metadata": {
        "colab": {
          "base_uri": "https://localhost:8080/"
        },
        "id": "tmVwoHoHe9mV",
        "outputId": "3eb1d72c-e64c-4b74-ec2a-6cba0243c298"
      },
      "outputs": [
        {
          "output_type": "stream",
          "name": "stdout",
          "text": [
            "Looking in indexes: https://pypi.org/simple, https://us-python.pkg.dev/colab-wheels/public/simple/\n",
            "Collecting ColabTurtle\n",
            "  Downloading ColabTurtle-2.1.0.tar.gz (6.8 kB)\n",
            "Building wheels for collected packages: ColabTurtle\n",
            "  Building wheel for ColabTurtle (setup.py) ... \u001b[?25l\u001b[?25hdone\n",
            "  Created wheel for ColabTurtle: filename=ColabTurtle-2.1.0-py3-none-any.whl size=7657 sha256=b6296665387653a8cd11d8c60dccccc8f55e9e9eda986faf497e8697d7160a67\n",
            "  Stored in directory: /root/.cache/pip/wheels/0d/ab/65/cc4478508751448dfb4ecb20a6533082855c227dfce8c13902\n",
            "Successfully built ColabTurtle\n",
            "Installing collected packages: ColabTurtle\n",
            "Successfully installed ColabTurtle-2.1.0\n"
          ]
        }
      ],
      "source": [
        "!pip3 install ColabTurtle\n",
        "import ColabTurtle.Turtle as x\n"
      ]
    },
    {
      "cell_type": "code",
      "source": [
        "x.initializeTurtle()\n",
        "x.bgcolor(\"white\")\n",
        "x.color('black')\n",
        "x.speed(5)\n",
        "for o in range(4):\n",
        "  x.forward(90)\n",
        "  x.right(90)"
      ],
      "metadata": {
        "colab": {
          "base_uri": "https://localhost:8080/",
          "height": 521
        },
        "id": "Wc4M4W92foxl",
        "outputId": "4ee0bc53-bf6a-4221-8855-46538d53bd3e"
      },
      "execution_count": 4,
      "outputs": [
        {
          "output_type": "display_data",
          "data": {
            "text/plain": [
              "<IPython.core.display.HTML object>"
            ],
            "text/html": [
              "\n",
              "      <svg width=\"800\" height=\"500\">\n",
              "        <rect width=\"100%\" height=\"100%\" fill=\"white\"/>\n",
              "        <line x1=\"400\" y1=\"250\" x2=\"400.0\" y2=\"160.0\" stroke-linecap=\"round\" style=\"stroke:black;stroke-width:4\"/><line x1=\"400.0\" y1=\"160.0\" x2=\"490.0\" y2=\"160.0\" stroke-linecap=\"round\" style=\"stroke:black;stroke-width:4\"/><line x1=\"490.0\" y1=\"160.0\" x2=\"490.0\" y2=\"250.0\" stroke-linecap=\"round\" style=\"stroke:black;stroke-width:4\"/><line x1=\"490.0\" y1=\"250.0\" x2=\"400.0\" y2=\"250.0\" stroke-linecap=\"round\" style=\"stroke:black;stroke-width:4\"/>\n",
              "        <g visibility=visible transform=\"rotate(360,400.0,250.0) translate(382.0, 232.0)\">\n",
              "<path style=\" stroke:none;fill-rule:evenodd;fill:black;fill-opacity:1;\" d=\"M 18.214844 0.632812 C 16.109375 1.800781 15.011719 4.074219 15.074219 7.132812 L 15.085938 7.652344 L 14.785156 7.496094 C 13.476562 6.824219 11.957031 6.671875 10.40625 7.066406 C 8.46875 7.550781 6.515625 9.15625 4.394531 11.992188 C 3.0625 13.777344 2.679688 14.636719 3.042969 15.027344 L 3.15625 15.152344 L 3.519531 15.152344 C 4.238281 15.152344 4.828125 14.886719 8.1875 13.039062 C 9.386719 12.378906 10.371094 11.839844 10.378906 11.839844 C 10.386719 11.839844 10.355469 11.929688 10.304688 12.035156 C 9.832031 13.09375 9.257812 14.820312 8.96875 16.078125 C 7.914062 20.652344 8.617188 24.53125 11.070312 27.660156 C 11.351562 28.015625 11.363281 27.914062 10.972656 28.382812 C 8.925781 30.84375 7.945312 33.28125 8.238281 35.1875 C 8.289062 35.527344 8.28125 35.523438 8.917969 35.523438 C 10.941406 35.523438 13.074219 34.207031 15.136719 31.6875 C 15.359375 31.417969 15.328125 31.425781 15.5625 31.574219 C 16.292969 32.042969 18.023438 32.964844 18.175781 32.964844 C 18.335938 32.964844 19.941406 32.210938 20.828125 31.71875 C 20.996094 31.625 21.136719 31.554688 21.136719 31.558594 C 21.203125 31.664062 21.898438 32.414062 22.222656 32.730469 C 23.835938 34.300781 25.5625 35.132812 27.582031 35.300781 C 27.90625 35.328125 27.9375 35.308594 28.007812 34.984375 C 28.382812 33.242188 27.625 30.925781 25.863281 28.425781 L 25.542969 27.96875 L 25.699219 27.785156 C 28.945312 23.960938 29.132812 18.699219 26.257812 11.96875 L 26.207031 11.84375 L 27.945312 12.703125 C 31.53125 14.476562 32.316406 14.800781 33.03125 14.800781 C 33.976562 14.800781 33.78125 13.9375 32.472656 12.292969 C 28.519531 7.355469 25.394531 5.925781 21.921875 7.472656 L 21.558594 7.636719 L 21.578125 7.542969 C 21.699219 6.992188 21.761719 5.742188 21.699219 5.164062 C 21.496094 3.296875 20.664062 1.964844 19.003906 0.855469 C 18.480469 0.503906 18.457031 0.5 18.214844 0.632812\"/>\n",
              "</g>\n",
              "      </svg>\n",
              "    "
            ]
          },
          "metadata": {}
        }
      ]
    },
    {
      "cell_type": "code",
      "source": [
        "x.initializeTurtle()\n",
        "x.bgcolor(\"white\")\n",
        "x.color('black')\n",
        "x.speed(5)\n",
        "for i in range(36):\n",
        "  x.forward(90)\n",
        "  x.right(36)"
      ],
      "metadata": {
        "colab": {
          "base_uri": "https://localhost:8080/",
          "height": 521
        },
        "id": "JtSIHJb7gn76",
        "outputId": "7e948158-acfe-4753-ea03-2e3c51cca732"
      },
      "execution_count": 6,
      "outputs": [
        {
          "output_type": "display_data",
          "data": {
            "text/plain": [
              "<IPython.core.display.HTML object>"
            ],
            "text/html": [
              "\n",
              "      <svg width=\"800\" height=\"500\">\n",
              "        <rect width=\"100%\" height=\"100%\" fill=\"white\"/>\n",
              "        <line x1=\"400\" y1=\"250\" x2=\"400.0\" y2=\"160.0\" stroke-linecap=\"round\" style=\"stroke:black;stroke-width:4\"/><line x1=\"400.0\" y1=\"160.0\" x2=\"452.901\" y2=\"87.188\" stroke-linecap=\"round\" style=\"stroke:black;stroke-width:4\"/><line x1=\"452.901\" y1=\"87.188\" x2=\"538.496\" y2=\"59.376\" stroke-linecap=\"round\" style=\"stroke:black;stroke-width:4\"/><line x1=\"538.496\" y1=\"59.376\" x2=\"624.091\" y2=\"87.188\" stroke-linecap=\"round\" style=\"stroke:black;stroke-width:4\"/><line x1=\"624.091\" y1=\"87.188\" x2=\"676.992\" y2=\"160.0\" stroke-linecap=\"round\" style=\"stroke:black;stroke-width:4\"/><line x1=\"676.992\" y1=\"160.0\" x2=\"676.992\" y2=\"250.0\" stroke-linecap=\"round\" style=\"stroke:black;stroke-width:4\"/><line x1=\"676.992\" y1=\"250.0\" x2=\"624.091\" y2=\"322.812\" stroke-linecap=\"round\" style=\"stroke:black;stroke-width:4\"/><line x1=\"624.091\" y1=\"322.812\" x2=\"538.496\" y2=\"350.624\" stroke-linecap=\"round\" style=\"stroke:black;stroke-width:4\"/><line x1=\"538.496\" y1=\"350.624\" x2=\"452.901\" y2=\"322.812\" stroke-linecap=\"round\" style=\"stroke:black;stroke-width:4\"/><line x1=\"452.901\" y1=\"322.812\" x2=\"400.0\" y2=\"250.0\" stroke-linecap=\"round\" style=\"stroke:black;stroke-width:4\"/><line x1=\"400.0\" y1=\"250.0\" x2=\"400.0\" y2=\"160.0\" stroke-linecap=\"round\" style=\"stroke:black;stroke-width:4\"/><line x1=\"400.0\" y1=\"160.0\" x2=\"452.901\" y2=\"87.188\" stroke-linecap=\"round\" style=\"stroke:black;stroke-width:4\"/><line x1=\"452.901\" y1=\"87.188\" x2=\"538.496\" y2=\"59.376\" stroke-linecap=\"round\" style=\"stroke:black;stroke-width:4\"/><line x1=\"538.496\" y1=\"59.376\" x2=\"624.091\" y2=\"87.188\" stroke-linecap=\"round\" style=\"stroke:black;stroke-width:4\"/><line x1=\"624.091\" y1=\"87.188\" x2=\"676.992\" y2=\"160.0\" stroke-linecap=\"round\" style=\"stroke:black;stroke-width:4\"/><line x1=\"676.992\" y1=\"160.0\" x2=\"676.992\" y2=\"250.0\" stroke-linecap=\"round\" style=\"stroke:black;stroke-width:4\"/><line x1=\"676.992\" y1=\"250.0\" x2=\"624.091\" y2=\"322.812\" stroke-linecap=\"round\" style=\"stroke:black;stroke-width:4\"/><line x1=\"624.091\" y1=\"322.812\" x2=\"538.496\" y2=\"350.624\" stroke-linecap=\"round\" style=\"stroke:black;stroke-width:4\"/><line x1=\"538.496\" y1=\"350.624\" x2=\"452.901\" y2=\"322.812\" stroke-linecap=\"round\" style=\"stroke:black;stroke-width:4\"/><line x1=\"452.901\" y1=\"322.812\" x2=\"400.0\" y2=\"250.0\" stroke-linecap=\"round\" style=\"stroke:black;stroke-width:4\"/><line x1=\"400.0\" y1=\"250.0\" x2=\"400.0\" y2=\"160.0\" stroke-linecap=\"round\" style=\"stroke:black;stroke-width:4\"/><line x1=\"400.0\" y1=\"160.0\" x2=\"452.901\" y2=\"87.188\" stroke-linecap=\"round\" style=\"stroke:black;stroke-width:4\"/><line x1=\"452.901\" y1=\"87.188\" x2=\"538.496\" y2=\"59.376\" stroke-linecap=\"round\" style=\"stroke:black;stroke-width:4\"/><line x1=\"538.496\" y1=\"59.376\" x2=\"624.091\" y2=\"87.188\" stroke-linecap=\"round\" style=\"stroke:black;stroke-width:4\"/><line x1=\"624.091\" y1=\"87.188\" x2=\"676.992\" y2=\"160.0\" stroke-linecap=\"round\" style=\"stroke:black;stroke-width:4\"/><line x1=\"676.992\" y1=\"160.0\" x2=\"676.992\" y2=\"250.0\" stroke-linecap=\"round\" style=\"stroke:black;stroke-width:4\"/><line x1=\"676.992\" y1=\"250.0\" x2=\"624.091\" y2=\"322.812\" stroke-linecap=\"round\" style=\"stroke:black;stroke-width:4\"/><line x1=\"624.091\" y1=\"322.812\" x2=\"538.496\" y2=\"350.624\" stroke-linecap=\"round\" style=\"stroke:black;stroke-width:4\"/><line x1=\"538.496\" y1=\"350.624\" x2=\"452.901\" y2=\"322.812\" stroke-linecap=\"round\" style=\"stroke:black;stroke-width:4\"/><line x1=\"452.901\" y1=\"322.812\" x2=\"400.0\" y2=\"250.0\" stroke-linecap=\"round\" style=\"stroke:black;stroke-width:4\"/><line x1=\"400.0\" y1=\"250.0\" x2=\"400.0\" y2=\"160.0\" stroke-linecap=\"round\" style=\"stroke:black;stroke-width:4\"/><line x1=\"400.0\" y1=\"160.0\" x2=\"452.901\" y2=\"87.188\" stroke-linecap=\"round\" style=\"stroke:black;stroke-width:4\"/><line x1=\"452.901\" y1=\"87.188\" x2=\"538.496\" y2=\"59.376\" stroke-linecap=\"round\" style=\"stroke:black;stroke-width:4\"/><line x1=\"538.496\" y1=\"59.376\" x2=\"624.091\" y2=\"87.188\" stroke-linecap=\"round\" style=\"stroke:black;stroke-width:4\"/><line x1=\"624.091\" y1=\"87.188\" x2=\"676.992\" y2=\"160.0\" stroke-linecap=\"round\" style=\"stroke:black;stroke-width:4\"/><line x1=\"676.992\" y1=\"160.0\" x2=\"676.992\" y2=\"250.0\" stroke-linecap=\"round\" style=\"stroke:black;stroke-width:4\"/>\n",
              "        <g visibility=visible transform=\"rotate(216,676.992,250.0) translate(658.992, 232.0)\">\n",
              "<path style=\" stroke:none;fill-rule:evenodd;fill:black;fill-opacity:1;\" d=\"M 18.214844 0.632812 C 16.109375 1.800781 15.011719 4.074219 15.074219 7.132812 L 15.085938 7.652344 L 14.785156 7.496094 C 13.476562 6.824219 11.957031 6.671875 10.40625 7.066406 C 8.46875 7.550781 6.515625 9.15625 4.394531 11.992188 C 3.0625 13.777344 2.679688 14.636719 3.042969 15.027344 L 3.15625 15.152344 L 3.519531 15.152344 C 4.238281 15.152344 4.828125 14.886719 8.1875 13.039062 C 9.386719 12.378906 10.371094 11.839844 10.378906 11.839844 C 10.386719 11.839844 10.355469 11.929688 10.304688 12.035156 C 9.832031 13.09375 9.257812 14.820312 8.96875 16.078125 C 7.914062 20.652344 8.617188 24.53125 11.070312 27.660156 C 11.351562 28.015625 11.363281 27.914062 10.972656 28.382812 C 8.925781 30.84375 7.945312 33.28125 8.238281 35.1875 C 8.289062 35.527344 8.28125 35.523438 8.917969 35.523438 C 10.941406 35.523438 13.074219 34.207031 15.136719 31.6875 C 15.359375 31.417969 15.328125 31.425781 15.5625 31.574219 C 16.292969 32.042969 18.023438 32.964844 18.175781 32.964844 C 18.335938 32.964844 19.941406 32.210938 20.828125 31.71875 C 20.996094 31.625 21.136719 31.554688 21.136719 31.558594 C 21.203125 31.664062 21.898438 32.414062 22.222656 32.730469 C 23.835938 34.300781 25.5625 35.132812 27.582031 35.300781 C 27.90625 35.328125 27.9375 35.308594 28.007812 34.984375 C 28.382812 33.242188 27.625 30.925781 25.863281 28.425781 L 25.542969 27.96875 L 25.699219 27.785156 C 28.945312 23.960938 29.132812 18.699219 26.257812 11.96875 L 26.207031 11.84375 L 27.945312 12.703125 C 31.53125 14.476562 32.316406 14.800781 33.03125 14.800781 C 33.976562 14.800781 33.78125 13.9375 32.472656 12.292969 C 28.519531 7.355469 25.394531 5.925781 21.921875 7.472656 L 21.558594 7.636719 L 21.578125 7.542969 C 21.699219 6.992188 21.761719 5.742188 21.699219 5.164062 C 21.496094 3.296875 20.664062 1.964844 19.003906 0.855469 C 18.480469 0.503906 18.457031 0.5 18.214844 0.632812\"/>\n",
              "</g>\n",
              "      </svg>\n",
              "    "
            ]
          },
          "metadata": {}
        }
      ]
    },
    {
      "cell_type": "code",
      "source": [
        "x.initializeTurtle()\n",
        "x.bgcolor(\"white\")\n",
        "x.color('black')\n",
        "x.speed(5)\n",
        "turtel = int(input(print('how many side do you want')))\n",
        "for i in range(turtel):\n",
        "  x.forward(90)\n",
        "  x.right(360 / turtel)\n",
        "print(\"you chose\", turtel)"
      ],
      "metadata": {
        "colab": {
          "base_uri": "https://localhost:8080/",
          "height": 573
        },
        "id": "gH-u4_7IhXEK",
        "outputId": "62d16e47-21c0-42a7-d71a-eadb2298a72c"
      },
      "execution_count": 9,
      "outputs": [
        {
          "output_type": "display_data",
          "data": {
            "text/plain": [
              "<IPython.core.display.HTML object>"
            ],
            "text/html": [
              "\n",
              "      <svg width=\"800\" height=\"500\">\n",
              "        <rect width=\"100%\" height=\"100%\" fill=\"white\"/>\n",
              "        <line x1=\"400\" y1=\"250\" x2=\"400.0\" y2=\"160.0\" stroke-linecap=\"round\" style=\"stroke:black;stroke-width:4\"/><line x1=\"400.0\" y1=\"160.0\" x2=\"477.942\" y2=\"115.0\" stroke-linecap=\"round\" style=\"stroke:black;stroke-width:4\"/><line x1=\"477.942\" y1=\"115.0\" x2=\"555.884\" y2=\"160.0\" stroke-linecap=\"round\" style=\"stroke:black;stroke-width:4\"/><line x1=\"555.884\" y1=\"160.0\" x2=\"555.884\" y2=\"250.0\" stroke-linecap=\"round\" style=\"stroke:black;stroke-width:4\"/><line x1=\"555.884\" y1=\"250.0\" x2=\"477.942\" y2=\"295.0\" stroke-linecap=\"round\" style=\"stroke:black;stroke-width:4\"/><line x1=\"477.942\" y1=\"295.0\" x2=\"400.0\" y2=\"250.0\" stroke-linecap=\"round\" style=\"stroke:black;stroke-width:4\"/>\n",
              "        <g visibility=visible transform=\"rotate(360.0,400.0,250.0) translate(382.0, 232.0)\">\n",
              "<path style=\" stroke:none;fill-rule:evenodd;fill:black;fill-opacity:1;\" d=\"M 18.214844 0.632812 C 16.109375 1.800781 15.011719 4.074219 15.074219 7.132812 L 15.085938 7.652344 L 14.785156 7.496094 C 13.476562 6.824219 11.957031 6.671875 10.40625 7.066406 C 8.46875 7.550781 6.515625 9.15625 4.394531 11.992188 C 3.0625 13.777344 2.679688 14.636719 3.042969 15.027344 L 3.15625 15.152344 L 3.519531 15.152344 C 4.238281 15.152344 4.828125 14.886719 8.1875 13.039062 C 9.386719 12.378906 10.371094 11.839844 10.378906 11.839844 C 10.386719 11.839844 10.355469 11.929688 10.304688 12.035156 C 9.832031 13.09375 9.257812 14.820312 8.96875 16.078125 C 7.914062 20.652344 8.617188 24.53125 11.070312 27.660156 C 11.351562 28.015625 11.363281 27.914062 10.972656 28.382812 C 8.925781 30.84375 7.945312 33.28125 8.238281 35.1875 C 8.289062 35.527344 8.28125 35.523438 8.917969 35.523438 C 10.941406 35.523438 13.074219 34.207031 15.136719 31.6875 C 15.359375 31.417969 15.328125 31.425781 15.5625 31.574219 C 16.292969 32.042969 18.023438 32.964844 18.175781 32.964844 C 18.335938 32.964844 19.941406 32.210938 20.828125 31.71875 C 20.996094 31.625 21.136719 31.554688 21.136719 31.558594 C 21.203125 31.664062 21.898438 32.414062 22.222656 32.730469 C 23.835938 34.300781 25.5625 35.132812 27.582031 35.300781 C 27.90625 35.328125 27.9375 35.308594 28.007812 34.984375 C 28.382812 33.242188 27.625 30.925781 25.863281 28.425781 L 25.542969 27.96875 L 25.699219 27.785156 C 28.945312 23.960938 29.132812 18.699219 26.257812 11.96875 L 26.207031 11.84375 L 27.945312 12.703125 C 31.53125 14.476562 32.316406 14.800781 33.03125 14.800781 C 33.976562 14.800781 33.78125 13.9375 32.472656 12.292969 C 28.519531 7.355469 25.394531 5.925781 21.921875 7.472656 L 21.558594 7.636719 L 21.578125 7.542969 C 21.699219 6.992188 21.761719 5.742188 21.699219 5.164062 C 21.496094 3.296875 20.664062 1.964844 19.003906 0.855469 C 18.480469 0.503906 18.457031 0.5 18.214844 0.632812\"/>\n",
              "</g>\n",
              "      </svg>\n",
              "    "
            ]
          },
          "metadata": {}
        },
        {
          "output_type": "stream",
          "name": "stdout",
          "text": [
            "how many side do you want\n",
            "None6\n",
            "you chose 6\n"
          ]
        }
      ]
    },
    {
      "cell_type": "code",
      "source": [
        "x.initializeTurtle()\n",
        "x.bgcolor(\"white\")\n",
        "x.color('black')\n",
        "x.speed(5)\n",
        "for i in range(15):\n",
        "  for i in range(5):\n",
        "    x.forward(90)\n",
        "    x.right(360 / 5)\n",
        "  x.right(360 / 5)"
      ],
      "metadata": {
        "colab": {
          "base_uri": "https://localhost:8080/",
          "height": 885
        },
        "id": "J7EL4tFCkDMm",
        "outputId": "0b042ae2-6a23-46cf-d9b6-9fd9cb24df41"
      },
      "execution_count": 16,
      "outputs": [
        {
          "output_type": "display_data",
          "data": {
            "text/plain": [
              "<IPython.core.display.HTML object>"
            ],
            "text/html": [
              "\n",
              "      <svg width=\"800\" height=\"500\">\n",
              "        <rect width=\"100%\" height=\"100%\" fill=\"white\"/>\n",
              "        <line x1=\"400\" y1=\"250\" x2=\"400.0\" y2=\"160.0\" stroke-linecap=\"round\" style=\"stroke:black;stroke-width:4\"/><line x1=\"400.0\" y1=\"160.0\" x2=\"485.595\" y2=\"132.188\" stroke-linecap=\"round\" style=\"stroke:black;stroke-width:4\"/><line x1=\"485.595\" y1=\"132.188\" x2=\"538.496\" y2=\"205.0\" stroke-linecap=\"round\" style=\"stroke:black;stroke-width:4\"/><line x1=\"538.496\" y1=\"205.0\" x2=\"485.595\" y2=\"277.812\" stroke-linecap=\"round\" style=\"stroke:black;stroke-width:4\"/><line x1=\"485.595\" y1=\"277.812\" x2=\"400.0\" y2=\"250.0\" stroke-linecap=\"round\" style=\"stroke:black;stroke-width:4\"/><line x1=\"400.0\" y1=\"250.0\" x2=\"485.595\" y2=\"222.188\" stroke-linecap=\"round\" style=\"stroke:black;stroke-width:4\"/><line x1=\"485.595\" y1=\"222.188\" x2=\"538.496\" y2=\"295.0\" stroke-linecap=\"round\" style=\"stroke:black;stroke-width:4\"/><line x1=\"538.496\" y1=\"295.0\" x2=\"485.595\" y2=\"367.812\" stroke-linecap=\"round\" style=\"stroke:black;stroke-width:4\"/><line x1=\"485.595\" y1=\"367.812\" x2=\"400.0\" y2=\"340.0\" stroke-linecap=\"round\" style=\"stroke:black;stroke-width:4\"/><line x1=\"400.0\" y1=\"340.0\" x2=\"400.0\" y2=\"250.0\" stroke-linecap=\"round\" style=\"stroke:black;stroke-width:4\"/><line x1=\"400.0\" y1=\"250.0\" x2=\"452.901\" y2=\"322.812\" stroke-linecap=\"round\" style=\"stroke:black;stroke-width:4\"/><line x1=\"452.901\" y1=\"322.812\" x2=\"400.0\" y2=\"395.624\" stroke-linecap=\"round\" style=\"stroke:black;stroke-width:4\"/><line x1=\"400.0\" y1=\"395.624\" x2=\"314.405\" y2=\"367.812\" stroke-linecap=\"round\" style=\"stroke:black;stroke-width:4\"/><line x1=\"314.405\" y1=\"367.812\" x2=\"314.405\" y2=\"277.812\" stroke-linecap=\"round\" style=\"stroke:black;stroke-width:4\"/><line x1=\"314.405\" y1=\"277.812\" x2=\"400.0\" y2=\"250.0\" stroke-linecap=\"round\" style=\"stroke:black;stroke-width:4\"/><line x1=\"400.0\" y1=\"250.0\" x2=\"347.099\" y2=\"322.812\" stroke-linecap=\"round\" style=\"stroke:black;stroke-width:4\"/><line x1=\"347.099\" y1=\"322.812\" x2=\"261.504\" y2=\"295.0\" stroke-linecap=\"round\" style=\"stroke:black;stroke-width:4\"/><line x1=\"261.504\" y1=\"295.0\" x2=\"261.504\" y2=\"205.0\" stroke-linecap=\"round\" style=\"stroke:black;stroke-width:4\"/><line x1=\"261.504\" y1=\"205.0\" x2=\"347.099\" y2=\"177.188\" stroke-linecap=\"round\" style=\"stroke:black;stroke-width:4\"/><line x1=\"347.099\" y1=\"177.188\" x2=\"400.0\" y2=\"250.0\" stroke-linecap=\"round\" style=\"stroke:black;stroke-width:4\"/><line x1=\"400.0\" y1=\"250.0\" x2=\"314.405\" y2=\"222.188\" stroke-linecap=\"round\" style=\"stroke:black;stroke-width:4\"/><line x1=\"314.405\" y1=\"222.188\" x2=\"314.405\" y2=\"132.188\" stroke-linecap=\"round\" style=\"stroke:black;stroke-width:4\"/><line x1=\"314.405\" y1=\"132.188\" x2=\"400.0\" y2=\"104.376\" stroke-linecap=\"round\" style=\"stroke:black;stroke-width:4\"/><line x1=\"400.0\" y1=\"104.376\" x2=\"452.901\" y2=\"177.188\" stroke-linecap=\"round\" style=\"stroke:black;stroke-width:4\"/><line x1=\"452.901\" y1=\"177.188\" x2=\"400.0\" y2=\"250.0\" stroke-linecap=\"round\" style=\"stroke:black;stroke-width:4\"/><line x1=\"400.0\" y1=\"250.0\" x2=\"400.0\" y2=\"160.0\" stroke-linecap=\"round\" style=\"stroke:black;stroke-width:4\"/><line x1=\"400.0\" y1=\"160.0\" x2=\"485.595\" y2=\"132.188\" stroke-linecap=\"round\" style=\"stroke:black;stroke-width:4\"/><line x1=\"485.595\" y1=\"132.188\" x2=\"538.496\" y2=\"205.0\" stroke-linecap=\"round\" style=\"stroke:black;stroke-width:4\"/><line x1=\"538.496\" y1=\"205.0\" x2=\"485.595\" y2=\"277.812\" stroke-linecap=\"round\" style=\"stroke:black;stroke-width:4\"/><line x1=\"485.595\" y1=\"277.812\" x2=\"400.0\" y2=\"250.0\" stroke-linecap=\"round\" style=\"stroke:black;stroke-width:4\"/><line x1=\"400.0\" y1=\"250.0\" x2=\"485.595\" y2=\"222.188\" stroke-linecap=\"round\" style=\"stroke:black;stroke-width:4\"/><line x1=\"485.595\" y1=\"222.188\" x2=\"538.496\" y2=\"295.0\" stroke-linecap=\"round\" style=\"stroke:black;stroke-width:4\"/><line x1=\"538.496\" y1=\"295.0\" x2=\"485.595\" y2=\"367.812\" stroke-linecap=\"round\" style=\"stroke:black;stroke-width:4\"/><line x1=\"485.595\" y1=\"367.812\" x2=\"400.0\" y2=\"340.0\" stroke-linecap=\"round\" style=\"stroke:black;stroke-width:4\"/><line x1=\"400.0\" y1=\"340.0\" x2=\"400.0\" y2=\"250.0\" stroke-linecap=\"round\" style=\"stroke:black;stroke-width:4\"/><line x1=\"400.0\" y1=\"250.0\" x2=\"452.901\" y2=\"322.812\" stroke-linecap=\"round\" style=\"stroke:black;stroke-width:4\"/><line x1=\"452.901\" y1=\"322.812\" x2=\"400.0\" y2=\"395.624\" stroke-linecap=\"round\" style=\"stroke:black;stroke-width:4\"/><line x1=\"400.0\" y1=\"395.624\" x2=\"314.405\" y2=\"367.812\" stroke-linecap=\"round\" style=\"stroke:black;stroke-width:4\"/><line x1=\"314.405\" y1=\"367.812\" x2=\"314.405\" y2=\"277.812\" stroke-linecap=\"round\" style=\"stroke:black;stroke-width:4\"/><line x1=\"314.405\" y1=\"277.812\" x2=\"400.0\" y2=\"250.0\" stroke-linecap=\"round\" style=\"stroke:black;stroke-width:4\"/><line x1=\"400.0\" y1=\"250.0\" x2=\"347.099\" y2=\"322.812\" stroke-linecap=\"round\" style=\"stroke:black;stroke-width:4\"/><line x1=\"347.099\" y1=\"322.812\" x2=\"261.504\" y2=\"295.0\" stroke-linecap=\"round\" style=\"stroke:black;stroke-width:4\"/><line x1=\"261.504\" y1=\"295.0\" x2=\"261.504\" y2=\"205.0\" stroke-linecap=\"round\" style=\"stroke:black;stroke-width:4\"/><line x1=\"261.504\" y1=\"205.0\" x2=\"347.099\" y2=\"177.188\" stroke-linecap=\"round\" style=\"stroke:black;stroke-width:4\"/><line x1=\"347.099\" y1=\"177.188\" x2=\"400.0\" y2=\"250.0\" stroke-linecap=\"round\" style=\"stroke:black;stroke-width:4\"/><line x1=\"400.0\" y1=\"250.0\" x2=\"314.405\" y2=\"222.188\" stroke-linecap=\"round\" style=\"stroke:black;stroke-width:4\"/><line x1=\"314.405\" y1=\"222.188\" x2=\"314.405\" y2=\"132.188\" stroke-linecap=\"round\" style=\"stroke:black;stroke-width:4\"/><line x1=\"314.405\" y1=\"132.188\" x2=\"400.0\" y2=\"104.376\" stroke-linecap=\"round\" style=\"stroke:black;stroke-width:4\"/><line x1=\"400.0\" y1=\"104.376\" x2=\"452.901\" y2=\"177.188\" stroke-linecap=\"round\" style=\"stroke:black;stroke-width:4\"/><line x1=\"452.901\" y1=\"177.188\" x2=\"400.0\" y2=\"250.0\" stroke-linecap=\"round\" style=\"stroke:black;stroke-width:4\"/><line x1=\"400.0\" y1=\"250.0\" x2=\"400.0\" y2=\"160.0\" stroke-linecap=\"round\" style=\"stroke:black;stroke-width:4\"/><line x1=\"400.0\" y1=\"160.0\" x2=\"485.595\" y2=\"132.188\" stroke-linecap=\"round\" style=\"stroke:black;stroke-width:4\"/><line x1=\"485.595\" y1=\"132.188\" x2=\"538.496\" y2=\"205.0\" stroke-linecap=\"round\" style=\"stroke:black;stroke-width:4\"/><line x1=\"538.496\" y1=\"205.0\" x2=\"485.595\" y2=\"277.812\" stroke-linecap=\"round\" style=\"stroke:black;stroke-width:4\"/><line x1=\"485.595\" y1=\"277.812\" x2=\"400.0\" y2=\"250.0\" stroke-linecap=\"round\" style=\"stroke:black;stroke-width:4\"/><line x1=\"400.0\" y1=\"250.0\" x2=\"485.595\" y2=\"222.188\" stroke-linecap=\"round\" style=\"stroke:black;stroke-width:4\"/><line x1=\"485.595\" y1=\"222.188\" x2=\"538.496\" y2=\"295.0\" stroke-linecap=\"round\" style=\"stroke:black;stroke-width:4\"/><line x1=\"538.496\" y1=\"295.0\" x2=\"485.595\" y2=\"367.812\" stroke-linecap=\"round\" style=\"stroke:black;stroke-width:4\"/><line x1=\"485.595\" y1=\"367.812\" x2=\"400.0\" y2=\"340.0\" stroke-linecap=\"round\" style=\"stroke:black;stroke-width:4\"/><line x1=\"400.0\" y1=\"340.0\" x2=\"400.0\" y2=\"250.0\" stroke-linecap=\"round\" style=\"stroke:black;stroke-width:4\"/><line x1=\"400.0\" y1=\"250.0\" x2=\"452.901\" y2=\"322.812\" stroke-linecap=\"round\" style=\"stroke:black;stroke-width:4\"/><line x1=\"452.901\" y1=\"322.812\" x2=\"400.0\" y2=\"395.624\" stroke-linecap=\"round\" style=\"stroke:black;stroke-width:4\"/><line x1=\"400.0\" y1=\"395.624\" x2=\"314.405\" y2=\"367.812\" stroke-linecap=\"round\" style=\"stroke:black;stroke-width:4\"/><line x1=\"314.405\" y1=\"367.812\" x2=\"314.405\" y2=\"277.812\" stroke-linecap=\"round\" style=\"stroke:black;stroke-width:4\"/>\n",
              "        <g visibility=visible transform=\"rotate(432.0,314.405,277.812) translate(296.405, 259.812)\">\n",
              "<path style=\" stroke:none;fill-rule:evenodd;fill:black;fill-opacity:1;\" d=\"M 18.214844 0.632812 C 16.109375 1.800781 15.011719 4.074219 15.074219 7.132812 L 15.085938 7.652344 L 14.785156 7.496094 C 13.476562 6.824219 11.957031 6.671875 10.40625 7.066406 C 8.46875 7.550781 6.515625 9.15625 4.394531 11.992188 C 3.0625 13.777344 2.679688 14.636719 3.042969 15.027344 L 3.15625 15.152344 L 3.519531 15.152344 C 4.238281 15.152344 4.828125 14.886719 8.1875 13.039062 C 9.386719 12.378906 10.371094 11.839844 10.378906 11.839844 C 10.386719 11.839844 10.355469 11.929688 10.304688 12.035156 C 9.832031 13.09375 9.257812 14.820312 8.96875 16.078125 C 7.914062 20.652344 8.617188 24.53125 11.070312 27.660156 C 11.351562 28.015625 11.363281 27.914062 10.972656 28.382812 C 8.925781 30.84375 7.945312 33.28125 8.238281 35.1875 C 8.289062 35.527344 8.28125 35.523438 8.917969 35.523438 C 10.941406 35.523438 13.074219 34.207031 15.136719 31.6875 C 15.359375 31.417969 15.328125 31.425781 15.5625 31.574219 C 16.292969 32.042969 18.023438 32.964844 18.175781 32.964844 C 18.335938 32.964844 19.941406 32.210938 20.828125 31.71875 C 20.996094 31.625 21.136719 31.554688 21.136719 31.558594 C 21.203125 31.664062 21.898438 32.414062 22.222656 32.730469 C 23.835938 34.300781 25.5625 35.132812 27.582031 35.300781 C 27.90625 35.328125 27.9375 35.308594 28.007812 34.984375 C 28.382812 33.242188 27.625 30.925781 25.863281 28.425781 L 25.542969 27.96875 L 25.699219 27.785156 C 28.945312 23.960938 29.132812 18.699219 26.257812 11.96875 L 26.207031 11.84375 L 27.945312 12.703125 C 31.53125 14.476562 32.316406 14.800781 33.03125 14.800781 C 33.976562 14.800781 33.78125 13.9375 32.472656 12.292969 C 28.519531 7.355469 25.394531 5.925781 21.921875 7.472656 L 21.558594 7.636719 L 21.578125 7.542969 C 21.699219 6.992188 21.761719 5.742188 21.699219 5.164062 C 21.496094 3.296875 20.664062 1.964844 19.003906 0.855469 C 18.480469 0.503906 18.457031 0.5 18.214844 0.632812\"/>\n",
              "</g>\n",
              "      </svg>\n",
              "    "
            ]
          },
          "metadata": {}
        },
        {
          "output_type": "error",
          "ename": "KeyboardInterrupt",
          "evalue": "ignored",
          "traceback": [
            "\u001b[0;31m---------------------------------------------------------------------------\u001b[0m",
            "\u001b[0;31mKeyboardInterrupt\u001b[0m                         Traceback (most recent call last)",
            "\u001b[0;32m<ipython-input-16-9359048dfe4e>\u001b[0m in \u001b[0;36m<module>\u001b[0;34m\u001b[0m\n\u001b[1;32m      5\u001b[0m \u001b[0;32mfor\u001b[0m \u001b[0mi\u001b[0m \u001b[0;32min\u001b[0m \u001b[0mrange\u001b[0m\u001b[0;34m(\u001b[0m\u001b[0;36m15\u001b[0m\u001b[0;34m)\u001b[0m\u001b[0;34m:\u001b[0m\u001b[0;34m\u001b[0m\u001b[0;34m\u001b[0m\u001b[0m\n\u001b[1;32m      6\u001b[0m   \u001b[0;32mfor\u001b[0m \u001b[0mi\u001b[0m \u001b[0;32min\u001b[0m \u001b[0mrange\u001b[0m\u001b[0;34m(\u001b[0m\u001b[0;36m5\u001b[0m\u001b[0;34m)\u001b[0m\u001b[0;34m:\u001b[0m\u001b[0;34m\u001b[0m\u001b[0;34m\u001b[0m\u001b[0m\n\u001b[0;32m----> 7\u001b[0;31m     \u001b[0mx\u001b[0m\u001b[0;34m.\u001b[0m\u001b[0mforward\u001b[0m\u001b[0;34m(\u001b[0m\u001b[0;36m90\u001b[0m\u001b[0;34m)\u001b[0m\u001b[0;34m\u001b[0m\u001b[0;34m\u001b[0m\u001b[0m\n\u001b[0m\u001b[1;32m      8\u001b[0m     \u001b[0mx\u001b[0m\u001b[0;34m.\u001b[0m\u001b[0mright\u001b[0m\u001b[0;34m(\u001b[0m\u001b[0;36m360\u001b[0m \u001b[0;34m/\u001b[0m \u001b[0;36m5\u001b[0m\u001b[0;34m)\u001b[0m\u001b[0;34m\u001b[0m\u001b[0;34m\u001b[0m\u001b[0m\n\u001b[1;32m      9\u001b[0m   \u001b[0mx\u001b[0m\u001b[0;34m.\u001b[0m\u001b[0mright\u001b[0m\u001b[0;34m(\u001b[0m\u001b[0;36m360\u001b[0m \u001b[0;34m/\u001b[0m \u001b[0;36m5\u001b[0m\u001b[0;34m)\u001b[0m\u001b[0;34m\u001b[0m\u001b[0;34m\u001b[0m\u001b[0m\n",
            "\u001b[0;32m/usr/local/lib/python3.7/dist-packages/ColabTurtle/Turtle.py\u001b[0m in \u001b[0;36mforward\u001b[0;34m(units)\u001b[0m\n\u001b[1;32m    172\u001b[0m     \u001b[0mending_point\u001b[0m \u001b[0;34m=\u001b[0m \u001b[0;34m(\u001b[0m\u001b[0mturtle_pos\u001b[0m\u001b[0;34m[\u001b[0m\u001b[0;36m0\u001b[0m\u001b[0;34m]\u001b[0m \u001b[0;34m+\u001b[0m \u001b[0munits\u001b[0m \u001b[0;34m*\u001b[0m \u001b[0mmath\u001b[0m\u001b[0;34m.\u001b[0m\u001b[0mcos\u001b[0m\u001b[0;34m(\u001b[0m\u001b[0malpha\u001b[0m\u001b[0;34m)\u001b[0m\u001b[0;34m,\u001b[0m \u001b[0mturtle_pos\u001b[0m\u001b[0;34m[\u001b[0m\u001b[0;36m1\u001b[0m\u001b[0;34m]\u001b[0m \u001b[0;34m+\u001b[0m \u001b[0munits\u001b[0m \u001b[0;34m*\u001b[0m \u001b[0mmath\u001b[0m\u001b[0;34m.\u001b[0m\u001b[0msin\u001b[0m\u001b[0;34m(\u001b[0m\u001b[0malpha\u001b[0m\u001b[0;34m)\u001b[0m\u001b[0;34m)\u001b[0m\u001b[0;34m\u001b[0m\u001b[0;34m\u001b[0m\u001b[0m\n\u001b[1;32m    173\u001b[0m \u001b[0;34m\u001b[0m\u001b[0m\n\u001b[0;32m--> 174\u001b[0;31m     \u001b[0m_moveToNewPosition\u001b[0m\u001b[0;34m(\u001b[0m\u001b[0mending_point\u001b[0m\u001b[0;34m)\u001b[0m\u001b[0;34m\u001b[0m\u001b[0;34m\u001b[0m\u001b[0m\n\u001b[0m\u001b[1;32m    175\u001b[0m \u001b[0;34m\u001b[0m\u001b[0m\n\u001b[1;32m    176\u001b[0m \u001b[0mfd\u001b[0m \u001b[0;34m=\u001b[0m \u001b[0mforward\u001b[0m \u001b[0;31m# alias\u001b[0m\u001b[0;34m\u001b[0m\u001b[0;34m\u001b[0m\u001b[0m\n",
            "\u001b[0;32m/usr/local/lib/python3.7/dist-packages/ColabTurtle/Turtle.py\u001b[0m in \u001b[0;36m_moveToNewPosition\u001b[0;34m(new_pos)\u001b[0m\n\u001b[1;32m    161\u001b[0m \u001b[0;34m\u001b[0m\u001b[0m\n\u001b[1;32m    162\u001b[0m     \u001b[0mturtle_pos\u001b[0m \u001b[0;34m=\u001b[0m \u001b[0mnew_pos\u001b[0m\u001b[0;34m\u001b[0m\u001b[0;34m\u001b[0m\u001b[0m\n\u001b[0;32m--> 163\u001b[0;31m     \u001b[0m_updateDrawing\u001b[0m\u001b[0;34m(\u001b[0m\u001b[0;34m)\u001b[0m\u001b[0;34m\u001b[0m\u001b[0;34m\u001b[0m\u001b[0m\n\u001b[0m\u001b[1;32m    164\u001b[0m \u001b[0;34m\u001b[0m\u001b[0m\n\u001b[1;32m    165\u001b[0m \u001b[0;34m\u001b[0m\u001b[0m\n",
            "\u001b[0;32m/usr/local/lib/python3.7/dist-packages/ColabTurtle/Turtle.py\u001b[0m in \u001b[0;36m_updateDrawing\u001b[0;34m()\u001b[0m\n\u001b[1;32m    143\u001b[0m     \u001b[0;32mif\u001b[0m \u001b[0mdrawing_window\u001b[0m \u001b[0;34m==\u001b[0m \u001b[0;32mNone\u001b[0m\u001b[0;34m:\u001b[0m\u001b[0;34m\u001b[0m\u001b[0;34m\u001b[0m\u001b[0m\n\u001b[1;32m    144\u001b[0m         \u001b[0;32mraise\u001b[0m \u001b[0mAttributeError\u001b[0m\u001b[0;34m(\u001b[0m\u001b[0;34m\"Display has not been initialized yet. Call initializeTurtle() before using.\"\u001b[0m\u001b[0;34m)\u001b[0m\u001b[0;34m\u001b[0m\u001b[0;34m\u001b[0m\u001b[0m\n\u001b[0;32m--> 145\u001b[0;31m     \u001b[0mtime\u001b[0m\u001b[0;34m.\u001b[0m\u001b[0msleep\u001b[0m\u001b[0;34m(\u001b[0m\u001b[0m_speedToSec\u001b[0m\u001b[0;34m(\u001b[0m\u001b[0mturtle_speed\u001b[0m\u001b[0;34m)\u001b[0m\u001b[0;34m)\u001b[0m\u001b[0;34m\u001b[0m\u001b[0;34m\u001b[0m\u001b[0m\n\u001b[0m\u001b[1;32m    146\u001b[0m     \u001b[0mdrawing_window\u001b[0m\u001b[0;34m.\u001b[0m\u001b[0mupdate\u001b[0m\u001b[0;34m(\u001b[0m\u001b[0mHTML\u001b[0m\u001b[0;34m(\u001b[0m\u001b[0m_generateSvgDrawing\u001b[0m\u001b[0;34m(\u001b[0m\u001b[0;34m)\u001b[0m\u001b[0;34m)\u001b[0m\u001b[0;34m)\u001b[0m\u001b[0;34m\u001b[0m\u001b[0;34m\u001b[0m\u001b[0m\n\u001b[1;32m    147\u001b[0m \u001b[0;34m\u001b[0m\u001b[0m\n",
            "\u001b[0;31mKeyboardInterrupt\u001b[0m: "
          ]
        }
      ]
    },
    {
      "cell_type": "code",
      "source": [
        "x.initializeTurtle()\n",
        "x.bgcolor(\"white\")\n",
        "x.color('black')\n",
        "x.speed(5)\n",
        "turtel = int(input(print('how many sides do you want to have')))\n",
        "shell = int(input(print('how many looping do you want to have')))\n",
        "print('you chose', turtel, 'sides')\n",
        "print('you chose', shell, 'loops')\n",
        "for i in range(shell):\n",
        "  for i in range(turtel):\n",
        "    x.forward(90)\n",
        "    x.right(360 / turtel)\n",
        "  x.right(360 / turtel)"
      ],
      "metadata": {
        "colab": {
          "base_uri": "https://localhost:8080/",
          "height": 989
        },
        "id": "ENyOBnjrlZSR",
        "outputId": "7bf7f06c-204d-4c52-ba4b-ca17cac705cd"
      },
      "execution_count": 17,
      "outputs": [
        {
          "output_type": "display_data",
          "data": {
            "text/plain": [
              "<IPython.core.display.HTML object>"
            ],
            "text/html": [
              "\n",
              "      <svg width=\"800\" height=\"500\">\n",
              "        <rect width=\"100%\" height=\"100%\" fill=\"white\"/>\n",
              "        <line x1=\"400\" y1=\"250\" x2=\"400.0\" y2=\"160.0\" stroke-linecap=\"round\" style=\"stroke:black;stroke-width:4\"/><line x1=\"400.0\" y1=\"160.0\" x2=\"436.606\" y2=\"77.781\" stroke-linecap=\"round\" style=\"stroke:black;stroke-width:4\"/><line x1=\"436.606\" y1=\"77.781\" x2=\"503.489\" y2=\"17.559\" stroke-linecap=\"round\" style=\"stroke:black;stroke-width:4\"/><line x1=\"503.489\" y1=\"17.559\" x2=\"589.084\" y2=\"-10.253\" stroke-linecap=\"round\" style=\"stroke:black;stroke-width:4\"/><line x1=\"589.084\" y1=\"-10.253\" x2=\"678.591\" y2=\"-0.845\" stroke-linecap=\"round\" style=\"stroke:black;stroke-width:4\"/><line x1=\"678.591\" y1=\"-0.845\" x2=\"756.533\" y2=\"44.155\" stroke-linecap=\"round\" style=\"stroke:black;stroke-width:4\"/><line x1=\"756.533\" y1=\"44.155\" x2=\"809.434\" y2=\"116.967\" stroke-linecap=\"round\" style=\"stroke:black;stroke-width:4\"/><line x1=\"809.434\" y1=\"116.967\" x2=\"828.146\" y2=\"205.0\" stroke-linecap=\"round\" style=\"stroke:black;stroke-width:4\"/><line x1=\"828.146\" y1=\"205.0\" x2=\"809.434\" y2=\"293.033\" stroke-linecap=\"round\" style=\"stroke:black;stroke-width:4\"/><line x1=\"809.434\" y1=\"293.033\" x2=\"756.533\" y2=\"365.845\" stroke-linecap=\"round\" style=\"stroke:black;stroke-width:4\"/><line x1=\"756.533\" y1=\"365.845\" x2=\"678.591\" y2=\"410.845\" stroke-linecap=\"round\" style=\"stroke:black;stroke-width:4\"/><line x1=\"678.591\" y1=\"410.845\" x2=\"589.084\" y2=\"420.253\" stroke-linecap=\"round\" style=\"stroke:black;stroke-width:4\"/><line x1=\"589.084\" y1=\"420.253\" x2=\"503.489\" y2=\"392.441\" stroke-linecap=\"round\" style=\"stroke:black;stroke-width:4\"/><line x1=\"503.489\" y1=\"392.441\" x2=\"436.606\" y2=\"332.219\" stroke-linecap=\"round\" style=\"stroke:black;stroke-width:4\"/><line x1=\"436.606\" y1=\"332.219\" x2=\"400.0\" y2=\"250.0\" stroke-linecap=\"round\" style=\"stroke:black;stroke-width:4\"/><line x1=\"400.0\" y1=\"250.0\" x2=\"436.606\" y2=\"167.781\" stroke-linecap=\"round\" style=\"stroke:black;stroke-width:4\"/><line x1=\"436.606\" y1=\"167.781\" x2=\"503.489\" y2=\"107.559\" stroke-linecap=\"round\" style=\"stroke:black;stroke-width:4\"/><line x1=\"503.489\" y1=\"107.559\" x2=\"589.084\" y2=\"79.747\" stroke-linecap=\"round\" style=\"stroke:black;stroke-width:4\"/><line x1=\"589.084\" y1=\"79.747\" x2=\"678.591\" y2=\"89.155\" stroke-linecap=\"round\" style=\"stroke:black;stroke-width:4\"/><line x1=\"678.591\" y1=\"89.155\" x2=\"756.533\" y2=\"134.155\" stroke-linecap=\"round\" style=\"stroke:black;stroke-width:4\"/><line x1=\"756.533\" y1=\"134.155\" x2=\"809.434\" y2=\"206.967\" stroke-linecap=\"round\" style=\"stroke:black;stroke-width:4\"/><line x1=\"809.434\" y1=\"206.967\" x2=\"828.146\" y2=\"295.0\" stroke-linecap=\"round\" style=\"stroke:black;stroke-width:4\"/><line x1=\"828.146\" y1=\"295.0\" x2=\"809.434\" y2=\"383.033\" stroke-linecap=\"round\" style=\"stroke:black;stroke-width:4\"/><line x1=\"809.434\" y1=\"383.033\" x2=\"756.533\" y2=\"455.845\" stroke-linecap=\"round\" style=\"stroke:black;stroke-width:4\"/><line x1=\"756.533\" y1=\"455.845\" x2=\"678.591\" y2=\"500.845\" stroke-linecap=\"round\" style=\"stroke:black;stroke-width:4\"/><line x1=\"678.591\" y1=\"500.845\" x2=\"589.084\" y2=\"510.253\" stroke-linecap=\"round\" style=\"stroke:black;stroke-width:4\"/><line x1=\"589.084\" y1=\"510.253\" x2=\"503.489\" y2=\"482.441\" stroke-linecap=\"round\" style=\"stroke:black;stroke-width:4\"/><line x1=\"503.489\" y1=\"482.441\" x2=\"436.606\" y2=\"422.219\" stroke-linecap=\"round\" style=\"stroke:black;stroke-width:4\"/><line x1=\"436.606\" y1=\"422.219\" x2=\"400.0\" y2=\"340.0\" stroke-linecap=\"round\" style=\"stroke:black;stroke-width:4\"/><line x1=\"400.0\" y1=\"340.0\" x2=\"400.0\" y2=\"250.0\" stroke-linecap=\"round\" style=\"stroke:black;stroke-width:4\"/><line x1=\"400.0\" y1=\"250.0\" x2=\"466.883\" y2=\"189.778\" stroke-linecap=\"round\" style=\"stroke:black;stroke-width:4\"/><line x1=\"466.883\" y1=\"189.778\" x2=\"552.478\" y2=\"161.966\" stroke-linecap=\"round\" style=\"stroke:black;stroke-width:4\"/><line x1=\"552.478\" y1=\"161.966\" x2=\"641.985\" y2=\"171.374\" stroke-linecap=\"round\" style=\"stroke:black;stroke-width:4\"/><line x1=\"641.985\" y1=\"171.374\" x2=\"719.927\" y2=\"216.374\" stroke-linecap=\"round\" style=\"stroke:black;stroke-width:4\"/><line x1=\"719.927\" y1=\"216.374\" x2=\"772.828\" y2=\"289.186\" stroke-linecap=\"round\" style=\"stroke:black;stroke-width:4\"/><line x1=\"772.828\" y1=\"289.186\" x2=\"791.54\" y2=\"377.219\" stroke-linecap=\"round\" style=\"stroke:black;stroke-width:4\"/><line x1=\"791.54\" y1=\"377.219\" x2=\"772.828\" y2=\"465.252\" stroke-linecap=\"round\" style=\"stroke:black;stroke-width:4\"/><line x1=\"772.828\" y1=\"465.252\" x2=\"719.927\" y2=\"538.064\" stroke-linecap=\"round\" style=\"stroke:black;stroke-width:4\"/><line x1=\"719.927\" y1=\"538.064\" x2=\"641.985\" y2=\"583.064\" stroke-linecap=\"round\" style=\"stroke:black;stroke-width:4\"/><line x1=\"641.985\" y1=\"583.064\" x2=\"552.478\" y2=\"592.472\" stroke-linecap=\"round\" style=\"stroke:black;stroke-width:4\"/><line x1=\"552.478\" y1=\"592.472\" x2=\"466.883\" y2=\"564.66\" stroke-linecap=\"round\" style=\"stroke:black;stroke-width:4\"/><line x1=\"466.883\" y1=\"564.66\" x2=\"400.0\" y2=\"504.438\" stroke-linecap=\"round\" style=\"stroke:black;stroke-width:4\"/><line x1=\"400.0\" y1=\"504.438\" x2=\"363.394\" y2=\"422.219\" stroke-linecap=\"round\" style=\"stroke:black;stroke-width:4\"/><line x1=\"363.394\" y1=\"422.219\" x2=\"363.394\" y2=\"332.219\" stroke-linecap=\"round\" style=\"stroke:black;stroke-width:4\"/><line x1=\"363.394\" y1=\"332.219\" x2=\"400.0\" y2=\"250.0\" stroke-linecap=\"round\" style=\"stroke:black;stroke-width:4\"/><line x1=\"400.0\" y1=\"250.0\" x2=\"485.595\" y2=\"222.188\" stroke-linecap=\"round\" style=\"stroke:black;stroke-width:4\"/><line x1=\"485.595\" y1=\"222.188\" x2=\"575.102\" y2=\"231.596\" stroke-linecap=\"round\" style=\"stroke:black;stroke-width:4\"/><line x1=\"575.102\" y1=\"231.596\" x2=\"653.044\" y2=\"276.596\" stroke-linecap=\"round\" style=\"stroke:black;stroke-width:4\"/><line x1=\"653.044\" y1=\"276.596\" x2=\"705.945\" y2=\"349.408\" stroke-linecap=\"round\" style=\"stroke:black;stroke-width:4\"/><line x1=\"705.945\" y1=\"349.408\" x2=\"724.657\" y2=\"437.441\" stroke-linecap=\"round\" style=\"stroke:black;stroke-width:4\"/><line x1=\"724.657\" y1=\"437.441\" x2=\"705.945\" y2=\"525.474\" stroke-linecap=\"round\" style=\"stroke:black;stroke-width:4\"/><line x1=\"705.945\" y1=\"525.474\" x2=\"653.044\" y2=\"598.286\" stroke-linecap=\"round\" style=\"stroke:black;stroke-width:4\"/><line x1=\"653.044\" y1=\"598.286\" x2=\"575.102\" y2=\"643.286\" stroke-linecap=\"round\" style=\"stroke:black;stroke-width:4\"/><line x1=\"575.102\" y1=\"643.286\" x2=\"485.595\" y2=\"652.694\" stroke-linecap=\"round\" style=\"stroke:black;stroke-width:4\"/><line x1=\"485.595\" y1=\"652.694\" x2=\"400.0\" y2=\"624.882\" stroke-linecap=\"round\" style=\"stroke:black;stroke-width:4\"/><line x1=\"400.0\" y1=\"624.882\" x2=\"333.117\" y2=\"564.66\" stroke-linecap=\"round\" style=\"stroke:black;stroke-width:4\"/><line x1=\"333.117\" y1=\"564.66\" x2=\"296.511\" y2=\"482.441\" stroke-linecap=\"round\" style=\"stroke:black;stroke-width:4\"/><line x1=\"296.511\" y1=\"482.441\" x2=\"296.511\" y2=\"392.441\" stroke-linecap=\"round\" style=\"stroke:black;stroke-width:4\"/><line x1=\"296.511\" y1=\"392.441\" x2=\"333.117\" y2=\"310.222\" stroke-linecap=\"round\" style=\"stroke:black;stroke-width:4\"/><line x1=\"333.117\" y1=\"310.222\" x2=\"400.0\" y2=\"250.0\" stroke-linecap=\"round\" style=\"stroke:black;stroke-width:4\"/>\n",
              "        <g visibility=visible transform=\"rotate(96.0,400.0,250.0) translate(382.0, 232.0)\">\n",
              "<path style=\" stroke:none;fill-rule:evenodd;fill:black;fill-opacity:1;\" d=\"M 18.214844 0.632812 C 16.109375 1.800781 15.011719 4.074219 15.074219 7.132812 L 15.085938 7.652344 L 14.785156 7.496094 C 13.476562 6.824219 11.957031 6.671875 10.40625 7.066406 C 8.46875 7.550781 6.515625 9.15625 4.394531 11.992188 C 3.0625 13.777344 2.679688 14.636719 3.042969 15.027344 L 3.15625 15.152344 L 3.519531 15.152344 C 4.238281 15.152344 4.828125 14.886719 8.1875 13.039062 C 9.386719 12.378906 10.371094 11.839844 10.378906 11.839844 C 10.386719 11.839844 10.355469 11.929688 10.304688 12.035156 C 9.832031 13.09375 9.257812 14.820312 8.96875 16.078125 C 7.914062 20.652344 8.617188 24.53125 11.070312 27.660156 C 11.351562 28.015625 11.363281 27.914062 10.972656 28.382812 C 8.925781 30.84375 7.945312 33.28125 8.238281 35.1875 C 8.289062 35.527344 8.28125 35.523438 8.917969 35.523438 C 10.941406 35.523438 13.074219 34.207031 15.136719 31.6875 C 15.359375 31.417969 15.328125 31.425781 15.5625 31.574219 C 16.292969 32.042969 18.023438 32.964844 18.175781 32.964844 C 18.335938 32.964844 19.941406 32.210938 20.828125 31.71875 C 20.996094 31.625 21.136719 31.554688 21.136719 31.558594 C 21.203125 31.664062 21.898438 32.414062 22.222656 32.730469 C 23.835938 34.300781 25.5625 35.132812 27.582031 35.300781 C 27.90625 35.328125 27.9375 35.308594 28.007812 34.984375 C 28.382812 33.242188 27.625 30.925781 25.863281 28.425781 L 25.542969 27.96875 L 25.699219 27.785156 C 28.945312 23.960938 29.132812 18.699219 26.257812 11.96875 L 26.207031 11.84375 L 27.945312 12.703125 C 31.53125 14.476562 32.316406 14.800781 33.03125 14.800781 C 33.976562 14.800781 33.78125 13.9375 32.472656 12.292969 C 28.519531 7.355469 25.394531 5.925781 21.921875 7.472656 L 21.558594 7.636719 L 21.578125 7.542969 C 21.699219 6.992188 21.761719 5.742188 21.699219 5.164062 C 21.496094 3.296875 20.664062 1.964844 19.003906 0.855469 C 18.480469 0.503906 18.457031 0.5 18.214844 0.632812\"/>\n",
              "</g>\n",
              "      </svg>\n",
              "    "
            ]
          },
          "metadata": {}
        },
        {
          "output_type": "stream",
          "name": "stdout",
          "text": [
            "how many sides do you want to have\n",
            "None15\n",
            "how many looping do you want to have\n",
            "None30\n",
            "you chose 15 sides\n",
            "you chose 30 loops\n"
          ]
        },
        {
          "output_type": "error",
          "ename": "KeyboardInterrupt",
          "evalue": "ignored",
          "traceback": [
            "\u001b[0;31m---------------------------------------------------------------------------\u001b[0m",
            "\u001b[0;31mKeyboardInterrupt\u001b[0m                         Traceback (most recent call last)",
            "\u001b[0;32m<ipython-input-17-75830d1a725f>\u001b[0m in \u001b[0;36m<module>\u001b[0;34m\u001b[0m\n\u001b[1;32m      9\u001b[0m \u001b[0;32mfor\u001b[0m \u001b[0mi\u001b[0m \u001b[0;32min\u001b[0m \u001b[0mrange\u001b[0m\u001b[0;34m(\u001b[0m\u001b[0mshell\u001b[0m\u001b[0;34m)\u001b[0m\u001b[0;34m:\u001b[0m\u001b[0;34m\u001b[0m\u001b[0;34m\u001b[0m\u001b[0m\n\u001b[1;32m     10\u001b[0m   \u001b[0;32mfor\u001b[0m \u001b[0mi\u001b[0m \u001b[0;32min\u001b[0m \u001b[0mrange\u001b[0m\u001b[0;34m(\u001b[0m\u001b[0mturtel\u001b[0m\u001b[0;34m)\u001b[0m\u001b[0;34m:\u001b[0m\u001b[0;34m\u001b[0m\u001b[0;34m\u001b[0m\u001b[0m\n\u001b[0;32m---> 11\u001b[0;31m     \u001b[0mx\u001b[0m\u001b[0;34m.\u001b[0m\u001b[0mforward\u001b[0m\u001b[0;34m(\u001b[0m\u001b[0;36m90\u001b[0m\u001b[0;34m)\u001b[0m\u001b[0;34m\u001b[0m\u001b[0;34m\u001b[0m\u001b[0m\n\u001b[0m\u001b[1;32m     12\u001b[0m     \u001b[0mx\u001b[0m\u001b[0;34m.\u001b[0m\u001b[0mright\u001b[0m\u001b[0;34m(\u001b[0m\u001b[0;36m360\u001b[0m \u001b[0;34m/\u001b[0m \u001b[0mturtel\u001b[0m\u001b[0;34m)\u001b[0m\u001b[0;34m\u001b[0m\u001b[0;34m\u001b[0m\u001b[0m\n\u001b[1;32m     13\u001b[0m   \u001b[0mx\u001b[0m\u001b[0;34m.\u001b[0m\u001b[0mright\u001b[0m\u001b[0;34m(\u001b[0m\u001b[0;36m360\u001b[0m \u001b[0;34m/\u001b[0m \u001b[0mturtel\u001b[0m\u001b[0;34m)\u001b[0m\u001b[0;34m\u001b[0m\u001b[0;34m\u001b[0m\u001b[0m\n",
            "\u001b[0;32m/usr/local/lib/python3.7/dist-packages/ColabTurtle/Turtle.py\u001b[0m in \u001b[0;36mforward\u001b[0;34m(units)\u001b[0m\n\u001b[1;32m    172\u001b[0m     \u001b[0mending_point\u001b[0m \u001b[0;34m=\u001b[0m \u001b[0;34m(\u001b[0m\u001b[0mturtle_pos\u001b[0m\u001b[0;34m[\u001b[0m\u001b[0;36m0\u001b[0m\u001b[0;34m]\u001b[0m \u001b[0;34m+\u001b[0m \u001b[0munits\u001b[0m \u001b[0;34m*\u001b[0m \u001b[0mmath\u001b[0m\u001b[0;34m.\u001b[0m\u001b[0mcos\u001b[0m\u001b[0;34m(\u001b[0m\u001b[0malpha\u001b[0m\u001b[0;34m)\u001b[0m\u001b[0;34m,\u001b[0m \u001b[0mturtle_pos\u001b[0m\u001b[0;34m[\u001b[0m\u001b[0;36m1\u001b[0m\u001b[0;34m]\u001b[0m \u001b[0;34m+\u001b[0m \u001b[0munits\u001b[0m \u001b[0;34m*\u001b[0m \u001b[0mmath\u001b[0m\u001b[0;34m.\u001b[0m\u001b[0msin\u001b[0m\u001b[0;34m(\u001b[0m\u001b[0malpha\u001b[0m\u001b[0;34m)\u001b[0m\u001b[0;34m)\u001b[0m\u001b[0;34m\u001b[0m\u001b[0;34m\u001b[0m\u001b[0m\n\u001b[1;32m    173\u001b[0m \u001b[0;34m\u001b[0m\u001b[0m\n\u001b[0;32m--> 174\u001b[0;31m     \u001b[0m_moveToNewPosition\u001b[0m\u001b[0;34m(\u001b[0m\u001b[0mending_point\u001b[0m\u001b[0;34m)\u001b[0m\u001b[0;34m\u001b[0m\u001b[0;34m\u001b[0m\u001b[0m\n\u001b[0m\u001b[1;32m    175\u001b[0m \u001b[0;34m\u001b[0m\u001b[0m\n\u001b[1;32m    176\u001b[0m \u001b[0mfd\u001b[0m \u001b[0;34m=\u001b[0m \u001b[0mforward\u001b[0m \u001b[0;31m# alias\u001b[0m\u001b[0;34m\u001b[0m\u001b[0;34m\u001b[0m\u001b[0m\n",
            "\u001b[0;32m/usr/local/lib/python3.7/dist-packages/ColabTurtle/Turtle.py\u001b[0m in \u001b[0;36m_moveToNewPosition\u001b[0;34m(new_pos)\u001b[0m\n\u001b[1;32m    161\u001b[0m \u001b[0;34m\u001b[0m\u001b[0m\n\u001b[1;32m    162\u001b[0m     \u001b[0mturtle_pos\u001b[0m \u001b[0;34m=\u001b[0m \u001b[0mnew_pos\u001b[0m\u001b[0;34m\u001b[0m\u001b[0;34m\u001b[0m\u001b[0m\n\u001b[0;32m--> 163\u001b[0;31m     \u001b[0m_updateDrawing\u001b[0m\u001b[0;34m(\u001b[0m\u001b[0;34m)\u001b[0m\u001b[0;34m\u001b[0m\u001b[0;34m\u001b[0m\u001b[0m\n\u001b[0m\u001b[1;32m    164\u001b[0m \u001b[0;34m\u001b[0m\u001b[0m\n\u001b[1;32m    165\u001b[0m \u001b[0;34m\u001b[0m\u001b[0m\n",
            "\u001b[0;32m/usr/local/lib/python3.7/dist-packages/ColabTurtle/Turtle.py\u001b[0m in \u001b[0;36m_updateDrawing\u001b[0;34m()\u001b[0m\n\u001b[1;32m    143\u001b[0m     \u001b[0;32mif\u001b[0m \u001b[0mdrawing_window\u001b[0m \u001b[0;34m==\u001b[0m \u001b[0;32mNone\u001b[0m\u001b[0;34m:\u001b[0m\u001b[0;34m\u001b[0m\u001b[0;34m\u001b[0m\u001b[0m\n\u001b[1;32m    144\u001b[0m         \u001b[0;32mraise\u001b[0m \u001b[0mAttributeError\u001b[0m\u001b[0;34m(\u001b[0m\u001b[0;34m\"Display has not been initialized yet. Call initializeTurtle() before using.\"\u001b[0m\u001b[0;34m)\u001b[0m\u001b[0;34m\u001b[0m\u001b[0;34m\u001b[0m\u001b[0m\n\u001b[0;32m--> 145\u001b[0;31m     \u001b[0mtime\u001b[0m\u001b[0;34m.\u001b[0m\u001b[0msleep\u001b[0m\u001b[0;34m(\u001b[0m\u001b[0m_speedToSec\u001b[0m\u001b[0;34m(\u001b[0m\u001b[0mturtle_speed\u001b[0m\u001b[0;34m)\u001b[0m\u001b[0;34m)\u001b[0m\u001b[0;34m\u001b[0m\u001b[0;34m\u001b[0m\u001b[0m\n\u001b[0m\u001b[1;32m    146\u001b[0m     \u001b[0mdrawing_window\u001b[0m\u001b[0;34m.\u001b[0m\u001b[0mupdate\u001b[0m\u001b[0;34m(\u001b[0m\u001b[0mHTML\u001b[0m\u001b[0;34m(\u001b[0m\u001b[0m_generateSvgDrawing\u001b[0m\u001b[0;34m(\u001b[0m\u001b[0;34m)\u001b[0m\u001b[0;34m)\u001b[0m\u001b[0;34m)\u001b[0m\u001b[0;34m\u001b[0m\u001b[0;34m\u001b[0m\u001b[0m\n\u001b[1;32m    147\u001b[0m \u001b[0;34m\u001b[0m\u001b[0m\n",
            "\u001b[0;31mKeyboardInterrupt\u001b[0m: "
          ]
        }
      ]
    }
  ]
}