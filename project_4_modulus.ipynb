{
  "nbformat": 4,
  "nbformat_minor": 0,
  "metadata": {
    "colab": {
      "provenance": [],
      "authorship_tag": "ABX9TyP2i+MJ2vJ7m490kAFzzkj9",
      "include_colab_link": true
    },
    "kernelspec": {
      "name": "python3",
      "display_name": "Python 3"
    },
    "language_info": {
      "name": "python"
    }
  },
  "cells": [
    {
      "cell_type": "markdown",
      "metadata": {
        "id": "view-in-github",
        "colab_type": "text"
      },
      "source": [
        "<a href=\"https://colab.research.google.com/github/alfatih987/alhaznclass/blob/main/project_4_modulus.ipynb\" target=\"_parent\"><img src=\"https://colab.research.google.com/assets/colab-badge.svg\" alt=\"Open In Colab\"/></a>"
      ]
    },
    {
      "cell_type": "code",
      "execution_count": 2,
      "metadata": {
        "colab": {
          "base_uri": "https://localhost:8080/"
        },
        "id": "At-nF0imAG-f",
        "outputId": "e848b528-988d-4f99-8765-d64b778be796"
      },
      "outputs": [
        {
          "output_type": "stream",
          "name": "stdout",
          "text": [
            "input your first number\n",
            "None4\n",
            "your second number\n",
            "None2\n",
            "0\n"
          ]
        }
      ],
      "source": [
        "a = int(input(print('input your first number')))\n",
        "b = int(input(print('your second number')))\n",
        "print(a % b)"
      ]
    },
    {
      "cell_type": "code",
      "source": [
        "a = int(input(print('input your first number')))\n",
        "b = int(input(print('your second number')))\n",
        "c = a % b\n",
        "if c == 1:\n",
        "  print('your number is odd')\n",
        "if c == 0:\n",
        "  print('your number is even')\n"
      ],
      "metadata": {
        "colab": {
          "base_uri": "https://localhost:8080/"
        },
        "id": "99wzX8naCFnE",
        "outputId": "330f2287-c89b-4375-8aa6-0327cdbc46a4"
      },
      "execution_count": 6,
      "outputs": [
        {
          "output_type": "stream",
          "name": "stdout",
          "text": [
            "input your first number\n",
            "None3\n",
            "your second number\n",
            "None3\n",
            "your number is even\n"
          ]
        }
      ]
    }
  ]
}