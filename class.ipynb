{
  "nbformat": 4,
  "nbformat_minor": 0,
  "metadata": {
    "colab": {
      "provenance": [],
      "authorship_tag": "ABX9TyPC0GI/noH58FxQ2DSKsNkL",
      "include_colab_link": true
    },
    "kernelspec": {
      "name": "python3",
      "display_name": "Python 3"
    },
    "language_info": {
      "name": "python"
    }
  },
  "cells": [
    {
      "cell_type": "markdown",
      "metadata": {
        "id": "view-in-github",
        "colab_type": "text"
      },
      "source": [
        "<a href=\"https://colab.research.google.com/github/alfatih987/alhaznclass/blob/main/class.ipynb\" target=\"_parent\"><img src=\"https://colab.research.google.com/assets/colab-badge.svg\" alt=\"Open In Colab\"/></a>"
      ]
    },
    {
      "cell_type": "code",
      "execution_count": 3,
      "metadata": {
        "colab": {
          "base_uri": "https://localhost:8080/"
        },
        "id": "IrBNFwjJqAKq",
        "outputId": "b6f11195-457a-4aed-ce22-e3704a9e25a0"
      },
      "outputs": [
        {
          "output_type": "stream",
          "name": "stdout",
          "text": [
            "whats your name\n",
            "Nonealfatih\n",
            "whats your addres\n",
            "Nonenyc\n",
            "whats your phonenumber\n",
            "None1101010\n",
            "welcome to our school\n",
            "name =  alfatih\n",
            "addres =  nyc\n",
            "phone number =  1101010\n"
          ]
        }
      ],
      "source": [
        "#blueprint of student\n",
        "class student:\n",
        "  def __init__(self,name,addres,phonenumber):\n",
        "    self.name = name\n",
        "    self.addres = addres\n",
        "    self.phonenumber = phonenumber\n",
        "  def welcome(self):\n",
        "    print('welcome t so our school')\n",
        "    print('name = ', self.name)\n",
        "    print('addres = ', self.addres)\n",
        "    print('phone number = ', self.phonenumber)\n",
        "\n",
        "name = str(input(print('whats your name')))\n",
        "addres = str(input(print('whats your addres')))\n",
        "phonenumber = str(input(print('whats your phonenumber')))\n",
        "a = student(name,addres,phonenumber)\n",
        "a.welcome()"
      ]
    }
  ]
}