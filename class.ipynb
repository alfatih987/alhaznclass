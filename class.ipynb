{
  "nbformat": 4,
  "nbformat_minor": 0,
  "metadata": {
    "colab": {
      "provenance": [],
      "authorship_tag": "ABX9TyNEqDHwcgKl6eIOD821wgjG",
      "include_colab_link": true
    },
    "kernelspec": {
      "name": "python3",
      "display_name": "Python 3"
    },
    "language_info": {
      "name": "python"
    }
  },
  "cells": [
    {
      "cell_type": "markdown",
      "metadata": {
        "id": "view-in-github",
        "colab_type": "text"
      },
      "source": [
        "<a href=\"https://colab.research.google.com/github/alfatih987/alhaznclass/blob/main/class.ipynb\" target=\"_parent\"><img src=\"https://colab.research.google.com/assets/colab-badge.svg\" alt=\"Open In Colab\"/></a>"
      ]
    },
    {
      "cell_type": "code",
      "execution_count": 1,
      "metadata": {
        "colab": {
          "base_uri": "https://localhost:8080/"
        },
        "id": "IrBNFwjJqAKq",
        "outputId": "575f3ddc-e14f-46ca-ffb1-3d4405ef86dc"
      },
      "outputs": [
        {
          "output_type": "stream",
          "name": "stdout",
          "text": [
            "whats your name\n",
            "Nonealfatih\n",
            "whats your addres\n",
            "Nonenyc\n",
            "whats your phonenumber\n",
            "None911\n",
            "welcome t so our school\n",
            "name =  alfatih\n",
            "addres =  nyc\n",
            "phone number =  911\n"
          ]
        }
      ],
      "source": [
        "#blueprint of student\n",
        "class student:\n",
        "  def __init__(self,name,addres,phonenumber):\n",
        "    self.name = name\n",
        "    self.addres = addres\n",
        "    self.phonenumber = phonenumber\n",
        "  def welcome(self):\n",
        "    print('welcome t so our school')\n",
        "    print('name = ', self.name)\n",
        "    print('addres = ', self.addres)\n",
        "    print('phone number = ', self.phonenumber)\n",
        "\n",
        "name = str(input(print('whats your name')))\n",
        "addres = str(input(print('whats your addres')))\n",
        "phonenumber = str(input(print('whats your phonenumber')))\n",
        "a = student(name,addres,phonenumber)\n",
        "a.welcome()"
      ]
    },
    {
      "cell_type": "code",
      "source": [
        "class student:\n",
        "  def __init__(self,nama,nomor,tempat_tinggal):\n",
        "    self.nama = nama\n",
        "    self.nomor = nomor\n",
        "    self.tempat_tinggal = tempat_tinggal\n",
        "  def selamat_datang(self):\n",
        "    print('nama =' , self.nama)\n",
        "    print('nomor =', self.nomor)\n",
        "    print('tempat tinggal = ', self.tempat_tinggal)\n",
        "nama = str(input(print('nama siswa')))\n",
        "nomor = str(input(print('nomor siswa')))\n",
        "tempat_tinggal = str(input(print('tempat tinggal')))\n",
        "a = student(nama,nomor,tempat_tinggal)\n",
        "a.selamat_datang()"
      ],
      "metadata": {
        "colab": {
          "base_uri": "https://localhost:8080/"
        },
        "id": "ndy27_WcKkAv",
        "outputId": "5468ec72-a5bd-47a5-8b8f-838e6728416d"
      },
      "execution_count": 5,
      "outputs": [
        {
          "output_type": "stream",
          "name": "stdout",
          "text": [
            "nama siswa\n",
            "None1\n",
            "nomor siswa\n",
            "None2\n",
            "tempat tinggal\n",
            "None3\n",
            "nama = 1\n",
            "nomor = 2\n",
            "tempat tinggal =  3\n"
          ]
        }
      ]
    }
  ]
}