{
  "nbformat": 4,
  "nbformat_minor": 0,
  "metadata": {
    "colab": {
      "provenance": [],
      "authorship_tag": "ABX9TyOA/Q2stMTN8b3U/5Hxypj2",
      "include_colab_link": true
    },
    "kernelspec": {
      "name": "python3",
      "display_name": "Python 3"
    },
    "language_info": {
      "name": "python"
    }
  },
  "cells": [
    {
      "cell_type": "markdown",
      "metadata": {
        "id": "view-in-github",
        "colab_type": "text"
      },
      "source": [
        "<a href=\"https://colab.research.google.com/github/alfatih987/alhaznclass/blob/main/project_1.ipynb\" target=\"_parent\"><img src=\"https://colab.research.google.com/assets/colab-badge.svg\" alt=\"Open In Colab\"/></a>"
      ]
    },
    {
      "cell_type": "code",
      "execution_count": 5,
      "metadata": {
        "colab": {
          "base_uri": "https://localhost:8080/"
        },
        "id": "zL90ltlxo-iI",
        "outputId": "e10a73f1-a617-4855-9deb-e0172aa045dc"
      },
      "outputs": [
        {
          "output_type": "stream",
          "name": "stdout",
          "text": [
            "hello world\n",
            "hello world\n",
            "hello world\n",
            "hello world\n",
            "hello world\n",
            "hello world\n",
            "hello world\n",
            "hello world\n",
            "hello world\n",
            "hello world\n"
          ]
        }
      ],
      "source": [
        "import time\n",
        "for i in range(10):\n",
        "  print(\"hello world\")\n",
        "  time.sleep(0.5)"
      ]
    },
    {
      "cell_type": "code",
      "source": [
        "name = input(print(\"whats your name\"))\n",
        "old = input(print('how old are you'))\n",
        "print(\"hello\")\n",
        "print(name)\n",
        "print(\"oh... soo you are\")\n",
        "print(old)"
      ],
      "metadata": {
        "colab": {
          "base_uri": "https://localhost:8080/"
        },
        "id": "kzFL2rDap9WZ",
        "outputId": "37a6541f-45e5-4935-efeb-a74129e1cc26"
      },
      "execution_count": 9,
      "outputs": [
        {
          "output_type": "stream",
          "name": "stdout",
          "text": [
            "whats your name\n",
            "Nonealfatih\n",
            "how old are you\n",
            "None12\n",
            "hello\n",
            "alfatih\n",
            "oh... soo you are\n",
            "12\n"
          ]
        }
      ]
    },
    {
      "cell_type": "code",
      "source": [
        "name = input(print(\"whats your name\"))\n",
        "old = input(print('how old are you'))\n",
        "print(\"hello\", name)\n",
        "print(\"also you are\", old)\n"
      ],
      "metadata": {
        "colab": {
          "base_uri": "https://localhost:8080/"
        },
        "id": "GYWV98DEre-N",
        "outputId": "2bbfeace-3bdd-4214-d1cb-2608129a6831"
      },
      "execution_count": 11,
      "outputs": [
        {
          "output_type": "stream",
          "name": "stdout",
          "text": [
            "whats your name\n",
            "Nonealfatih\n",
            "how old are you\n",
            "None12\n",
            "hello alfatih\n",
            "also you are 12\n"
          ]
        }
      ]
    },
    {
      "cell_type": "code",
      "source": [
        "print('welcome to MIT university')\n",
        "print('the following requirement must be enter to be register in your university')\n",
        "print(\"pls fill the data\")\n",
        "a = input(print(\"what is your name\"))\n",
        "b = input(print('have you graduated to school'))\n",
        "print('hello', a,)\n",
        "print(b)"
      ],
      "metadata": {
        "colab": {
          "base_uri": "https://localhost:8080/"
        },
        "id": "rH-FQXMMsAvW",
        "outputId": "ed64d03f-f464-4098-882d-ef33912f2ed2"
      },
      "execution_count": 12,
      "outputs": [
        {
          "output_type": "stream",
          "name": "stdout",
          "text": [
            "welcome to MIT university\n",
            "the following requirement must be enter to be register in your university\n",
            "pls fill the data\n",
            "what is your name\n",
            "Nonealfatih\n",
            "have you graduated to school\n",
            "Noneyes\n",
            "hello alfatih\n",
            "yes\n"
          ]
        }
      ]
    }
  ]
}