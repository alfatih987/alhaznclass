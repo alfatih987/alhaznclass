{
  "nbformat": 4,
  "nbformat_minor": 0,
  "metadata": {
    "colab": {
      "provenance": [],
      "authorship_tag": "ABX9TyNAjCED351OewH7MNOG8Fd3",
      "include_colab_link": true
    },
    "kernelspec": {
      "name": "python3",
      "display_name": "Python 3"
    },
    "language_info": {
      "name": "python"
    }
  },
  "cells": [
    {
      "cell_type": "markdown",
      "metadata": {
        "id": "view-in-github",
        "colab_type": "text"
      },
      "source": [
        "<a href=\"https://colab.research.google.com/github/alfatih987/alhaznclass/blob/main/indexing_and_slicing.ipynb\" target=\"_parent\"><img src=\"https://colab.research.google.com/assets/colab-badge.svg\" alt=\"Open In Colab\"/></a>"
      ]
    },
    {
      "cell_type": "code",
      "execution_count": 29,
      "metadata": {
        "colab": {
          "base_uri": "https://localhost:8080/"
        },
        "id": "Ys0kQYHeVtmD",
        "outputId": "980667c6-3308-40be-cd2a-7067df084ef0"
      },
      "outputs": [
        {
          "output_type": "stream",
          "name": "stdout",
          "text": [
            "[10, 20, 30, 40, 50, 60, 70, 80, 90, 100]\n",
            "[30, 40, 50, 60] [20, 40, 60, 80] [10, 40, 70, 100] [10, 30, 50, 70, 90] [90, 70, 50, 30, 10] [100, 80, 60] [100, 70]\n"
          ]
        }
      ],
      "source": [
        "my_list = [10,20,30,40,50,60,70,80,90,100]\n",
        "a = my_list[2 : 6]\n",
        "b = my_list[1 : 8 : 2]\n",
        "print(my_list)\n",
        "c = my_list[0 : 11 : 3]\n",
        "d = my_list[0 : 9 : 2]\n",
        "e = my_list[-2 : -11 : -2]\n",
        "f = my_list[-1 : -7 : -2]\n",
        "\n",
        "g = my_list[-1 : -6 : -3]\n",
        "print(a,b,c,d,e,f,g)"
      ]
    }
  ]
}