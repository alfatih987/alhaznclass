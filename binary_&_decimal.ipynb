{
  "nbformat": 4,
  "nbformat_minor": 0,
  "metadata": {
    "colab": {
      "provenance": [],
      "authorship_tag": "ABX9TyOJLOJg+yAMmvPyADg9VHNm",
      "include_colab_link": true
    },
    "kernelspec": {
      "name": "python3",
      "display_name": "Python 3"
    },
    "language_info": {
      "name": "python"
    }
  },
  "cells": [
    {
      "cell_type": "markdown",
      "metadata": {
        "id": "view-in-github",
        "colab_type": "text"
      },
      "source": [
        "<a href=\"https://colab.research.google.com/github/alfatih987/alhaznclass/blob/main/binary_%26_decimal.ipynb\" target=\"_parent\"><img src=\"https://colab.research.google.com/assets/colab-badge.svg\" alt=\"Open In Colab\"/></a>"
      ]
    },
    {
      "cell_type": "code",
      "execution_count": null,
      "metadata": {
        "colab": {
          "base_uri": "https://localhost:8080/"
        },
        "id": "ZYbte-z6SAPP",
        "outputId": "cda783b4-50d5-457f-dfbc-e2f94ec8c844"
      },
      "outputs": [
        {
          "output_type": "stream",
          "name": "stdout",
          "text": [
            "53\n"
          ]
        }
      ],
      "source": [
        "#find the decimal value of 00110101\n",
        "a = '00110101'\n",
        "b = int(a,2)\n",
        "print(b)"
      ]
    },
    {
      "cell_type": "code",
      "source": [
        "#find the decimal value of 00001011\n",
        "a = '00001011'\n",
        "b = int(a,2)\n",
        "print(b)\n",
        "#00011101\n",
        "a = '00011101'\n",
        "b = int(a,2)\n",
        "print(b)"
      ],
      "metadata": {
        "colab": {
          "base_uri": "https://localhost:8080/"
        },
        "id": "zgyZ3hVHTT2P",
        "outputId": "9ce58f8f-0d64-4b66-c385-9509adfedffb"
      },
      "execution_count": null,
      "outputs": [
        {
          "output_type": "stream",
          "name": "stdout",
          "text": [
            "11\n",
            "29\n"
          ]
        }
      ]
    },
    {
      "cell_type": "code",
      "source": [
        "#find the binary value of 75\n",
        "a = int(75)\n",
        "b = bin(a)\n",
        "print(b)\n",
        "\n",
        "# convert 55,11,29\n",
        "a = int(input(print('insert your number')))\n",
        "b = bin(a)\n",
        "print(b)\n",
        "\n",
        "o = str(input(print('insert your number')))\n",
        "i = int(o,2)\n",
        "print(i)"
      ],
      "metadata": {
        "colab": {
          "base_uri": "https://localhost:8080/"
        },
        "id": "ABf0wH2TUPNV",
        "outputId": "ac5d58f6-8661-422d-90c7-3196082c27a2"
      },
      "execution_count": null,
      "outputs": [
        {
          "output_type": "stream",
          "name": "stdout",
          "text": [
            "0b1001011\n",
            "insert your number\n",
            "None11\n",
            "0b1011\n",
            "insert your number\n",
            "None00011101\n",
            "29\n"
          ]
        }
      ]
    }
  ]
}