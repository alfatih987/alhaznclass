{
  "nbformat": 4,
  "nbformat_minor": 0,
  "metadata": {
    "colab": {
      "provenance": [],
      "authorship_tag": "ABX9TyMqQ+8+47gMN8b6xJAtZgxU",
      "include_colab_link": true
    },
    "kernelspec": {
      "name": "python3",
      "display_name": "Python 3"
    },
    "language_info": {
      "name": "python"
    }
  },
  "cells": [
    {
      "cell_type": "markdown",
      "metadata": {
        "id": "view-in-github",
        "colab_type": "text"
      },
      "source": [
        "<a href=\"https://colab.research.google.com/github/alfatih987/alhaznclass/blob/main/exam_data_collection.ipynb\" target=\"_parent\"><img src=\"https://colab.research.google.com/assets/colab-badge.svg\" alt=\"Open In Colab\"/></a>"
      ]
    },
    {
      "cell_type": "code",
      "execution_count": 2,
      "metadata": {
        "colab": {
          "base_uri": "https://localhost:8080/"
        },
        "id": "0MRIx4OUPAee",
        "outputId": "870315bd-84d5-4f22-845a-4d6ac30c8d63"
      },
      "outputs": [
        {
          "output_type": "stream",
          "name": "stdout",
          "text": [
            "select the student score\n",
            "None10\n",
            "select the student score\n",
            "None10\n",
            "select the student score\n",
            "None10\n",
            "select the student score\n",
            "None11\n",
            "select the student score\n",
            "None11\n",
            "select the student score\n",
            "None11\n",
            "10.5\n"
          ]
        }
      ],
      "source": [
        "student_1 = int(input(print('select the student score')))\n",
        "student_2 = int(input(print('select the student score')))\n",
        "student_3 = int(input(print('select the student score')))\n",
        "student_4 = int(input(print('select the student score')))\n",
        "student_5 = int(input(print('select the student score')))\n",
        "student_6 = int(input(print('select the student score')))\n",
        "a = (student_1 + student_2 + student_3 + student_4 + student_5 + student_6) / 6\n",
        "print(a)"
      ]
    },
    {
      "cell_type": "code",
      "source": [
        "a = [100, 80, 75]\n",
        "b = 0\n",
        "for i in a:\n",
        "  b += i\n",
        "print(b / len(a))"
      ],
      "metadata": {
        "colab": {
          "base_uri": "https://localhost:8080/"
        },
        "id": "a5NUXE3NQ_YU",
        "outputId": "38a604a6-c665-446a-f0c0-c9e18fc0049d"
      },
      "execution_count": 11,
      "outputs": [
        {
          "output_type": "stream",
          "name": "stdout",
          "text": [
            "85.0\n"
          ]
        }
      ]
    },
    {
      "cell_type": "code",
      "source": [],
      "metadata": {
        "id": "NnegomSXQfag"
      },
      "execution_count": null,
      "outputs": []
    }
  ]
}