{
  "nbformat": 4,
  "nbformat_minor": 0,
  "metadata": {
    "colab": {
      "provenance": [],
      "authorship_tag": "ABX9TyOd+zZaVVVZqHypML/Cjtv6",
      "include_colab_link": true
    },
    "kernelspec": {
      "name": "python3",
      "display_name": "Python 3"
    },
    "language_info": {
      "name": "python"
    }
  },
  "cells": [
    {
      "cell_type": "markdown",
      "metadata": {
        "id": "view-in-github",
        "colab_type": "text"
      },
      "source": [
        "<a href=\"https://colab.research.google.com/github/alfatih987/alhaznclass/blob/main/List.ipynb\" target=\"_parent\"><img src=\"https://colab.research.google.com/assets/colab-badge.svg\" alt=\"Open In Colab\"/></a>"
      ]
    },
    {
      "cell_type": "code",
      "execution_count": 10,
      "metadata": {
        "colab": {
          "base_uri": "https://localhost:8080/"
        },
        "id": "zoUF_3ueTFNh",
        "outputId": "eef73c40-6a34-4171-9cd1-fe9271862375"
      },
      "outputs": [
        {
          "output_type": "stream",
          "name": "stdout",
          "text": [
            "serigala\n",
            "kucing\n",
            "rubah\n",
            "['kucing', 'buaya', 'serigala', 'rubah']\n",
            "['serigala', 'rubah', 'gajah']\n"
          ]
        }
      ],
      "source": [
        "a = ['kucing','buaya','serigala','rubah','gajah']\n",
        "print(a[2])\n",
        "print(a[0])\n",
        "print(a[-2])\n",
        "print(a[:4])\n",
        "print(a[2:])"
      ]
    },
    {
      "cell_type": "code",
      "source": [
        "a = ['januari','februari','maret','april','mei','juni','juli',]\n",
        "b = ['agustus','september','oktober','november','desember',]\n",
        "c = a + b\n",
        "print(a , b , c)"
      ],
      "metadata": {
        "colab": {
          "base_uri": "https://localhost:8080/"
        },
        "id": "34d32tCJXYYW",
        "outputId": "d70c3448-653e-4b8f-90f3-3c82f6b6871d"
      },
      "execution_count": 11,
      "outputs": [
        {
          "output_type": "stream",
          "name": "stdout",
          "text": [
            "['januari', 'februari', 'maret', 'april', 'mei', 'juni', 'juli'] ['agustus', 'september', 'oktober', 'november', 'desember'] ['januari', 'februari', 'maret', 'april', 'mei', 'juni', 'juli', 'agustus', 'september', 'oktober', 'november', 'desember']\n"
          ]
        }
      ]
    },
    {
      "cell_type": "code",
      "source": [
        "a = ['kucing','buaya','serigala','rubah','gajah']\n",
        "b = ['agustus','september','oktober','november','desember',]\n",
        "a.append ('hamster')\n",
        "print(a)\n",
        "b.clear()\n",
        "print(b)\n",
        "c = b.copy()\n",
        "print(c)\n",
        "d = [1,1,1,2,2,3,3,3,3]\n",
        "e = d.count(1)\n",
        "print(e)\n",
        "f = d.count(2)\n",
        "print(f)\n",
        "g = d.count(3)\n",
        "print(g)"
      ],
      "metadata": {
        "colab": {
          "base_uri": "https://localhost:8080/"
        },
        "id": "g2UFbhjPYh-2",
        "outputId": "5361ead1-7203-454b-9495-5b12af1ce2fe"
      },
      "execution_count": 24,
      "outputs": [
        {
          "output_type": "stream",
          "name": "stdout",
          "text": [
            "['kucing', 'buaya', 'serigala', 'rubah', 'gajah', 'hamster']\n",
            "[]\n",
            "[]\n",
            "3\n",
            "2\n",
            "4\n"
          ]
        }
      ]
    }
  ]
}