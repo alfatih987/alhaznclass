{
  "nbformat": 4,
  "nbformat_minor": 0,
  "metadata": {
    "colab": {
      "provenance": [],
      "authorship_tag": "ABX9TyN5nH9mSJ0/aO2UIENeYbrX",
      "include_colab_link": true
    },
    "kernelspec": {
      "name": "python3",
      "display_name": "Python 3"
    },
    "language_info": {
      "name": "python"
    }
  },
  "cells": [
    {
      "cell_type": "markdown",
      "metadata": {
        "id": "view-in-github",
        "colab_type": "text"
      },
      "source": [
        "<a href=\"https://colab.research.google.com/github/alfatih987/alhaznclass/blob/main/LIST_%26_SUM.ipynb\" target=\"_parent\"><img src=\"https://colab.research.google.com/assets/colab-badge.svg\" alt=\"Open In Colab\"/></a>"
      ]
    },
    {
      "cell_type": "code",
      "execution_count": 6,
      "metadata": {
        "colab": {
          "base_uri": "https://localhost:8080/"
        },
        "id": "zWYx4nJtXyRW",
        "outputId": "67843903-7165-4dfe-fc53-93aaa00b9e0a"
      },
      "outputs": [
        {
          "output_type": "stream",
          "name": "stdout",
          "text": [
            "the sum is 210\n",
            "the sum is 210\n"
          ]
        }
      ],
      "source": [
        "a = [1,2,3,4,5,6,7,8,9,10,11,12,13,14,15,16,17,18,19,20]\n",
        "b = 0\n",
        "for i in a:\n",
        "  b = b + i\n",
        "print('the sum is', b)\n",
        "\n",
        "c = sum(a)\n",
        "print('the sum is', c)\n"
      ]
    },
    {
      "cell_type": "code",
      "source": [
        "a = [1,2,3,4,5,6,7,8,9,10,11,12,13,14,15,16,17,18,19,20]\n",
        "b = 0\n",
        "for i in a:\n",
        "  b = b + i\n",
        "print('the avereage is', b / len(a)) \n",
        "c = sum(a) / len(a)\n",
        "print(c)\n"
      ],
      "metadata": {
        "colab": {
          "base_uri": "https://localhost:8080/"
        },
        "id": "svg7m3gxfTmX",
        "outputId": "c8763d3a-217c-45a0-b22c-27b25edbf7e3"
      },
      "execution_count": 12,
      "outputs": [
        {
          "output_type": "stream",
          "name": "stdout",
          "text": [
            "the avereage is 10.5\n",
            "10.5\n"
          ]
        }
      ]
    },
    {
      "cell_type": "code",
      "source": [
        "a = [0,1,2,3,4,5,6,7,8,9,10,11,12,13,14,15]\n",
        "b = list(range(0,16))\n",
        "print(b)\n",
        "\n",
        "c = list(range(5,11))\n",
        "print(c)\n",
        "\n",
        "d = list(range(6,13,2))\n",
        "print(d)\n",
        "\n"
      ],
      "metadata": {
        "colab": {
          "base_uri": "https://localhost:8080/"
        },
        "id": "bv9QocbPhSWQ",
        "outputId": "19db1b43-dcc9-4c70-bd75-b838439717f3"
      },
      "execution_count": 18,
      "outputs": [
        {
          "output_type": "stream",
          "name": "stdout",
          "text": [
            "[0, 1, 2, 3, 4, 5, 6, 7, 8, 9, 10, 11, 12, 13, 14, 15]\n",
            "[5, 6, 7, 8, 9, 10]\n",
            "[6, 8, 10, 12]\n"
          ]
        }
      ]
    },
    {
      "cell_type": "code",
      "source": [
        "a = ['Xborg', 'tigerial', 'joy']\n",
        "for i in range( len(a)):\n",
        "  print('i play', a[i])\n",
        "\n",
        "  "
      ],
      "metadata": {
        "colab": {
          "base_uri": "https://localhost:8080/"
        },
        "id": "9yPUIhpojHlS",
        "outputId": "8a8636ec-6342-4765-a9f2-b35246bdbb8b"
      },
      "execution_count": 22,
      "outputs": [
        {
          "output_type": "stream",
          "name": "stdout",
          "text": [
            "i play Xborg\n",
            "i play tigerial\n",
            "i play joy\n"
          ]
        }
      ]
    },
    {
      "cell_type": "code",
      "source": [
        "a = ['argentina','saudi arabia','japan']\n",
        "for i in range(len(a)):\n",
        "  print('i watch', a[i])"
      ],
      "metadata": {
        "colab": {
          "base_uri": "https://localhost:8080/"
        },
        "id": "eqDGyuyRj0WU",
        "outputId": "bb49a1eb-0160-433e-dbf8-b93fcfbeff8f"
      },
      "execution_count": 24,
      "outputs": [
        {
          "output_type": "stream",
          "name": "stdout",
          "text": [
            "i watch argentina\n",
            "i watch saudi arabia\n",
            "i watch japan\n"
          ]
        }
      ]
    }
  ]
}