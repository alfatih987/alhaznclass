{
  "nbformat": 4,
  "nbformat_minor": 0,
  "metadata": {
    "colab": {
      "provenance": [],
      "authorship_tag": "ABX9TyNrEtg43QMlsBLjr7H0NVf9",
      "include_colab_link": true
    },
    "kernelspec": {
      "name": "python3",
      "display_name": "Python 3"
    },
    "language_info": {
      "name": "python"
    }
  },
  "cells": [
    {
      "cell_type": "markdown",
      "metadata": {
        "id": "view-in-github",
        "colab_type": "text"
      },
      "source": [
        "<a href=\"https://colab.research.google.com/github/alfatih987/alhaznclass/blob/main/Untitled2.ipynb\" target=\"_parent\"><img src=\"https://colab.research.google.com/assets/colab-badge.svg\" alt=\"Open In Colab\"/></a>"
      ]
    },
    {
      "cell_type": "code",
      "execution_count": 1,
      "metadata": {
        "colab": {
          "base_uri": "https://localhost:8080/"
        },
        "id": "IrBNFwjJqAKq",
        "outputId": "496e0ad9-40e8-4c98-c750-eb65d99975f0"
      },
      "outputs": [
        {
          "output_type": "stream",
          "name": "stdout",
          "text": [
            "whats your name\n",
            "Nonealfatih\n",
            "whats your addres\n",
            "Nonenyc\n",
            "whats your phonenumber\n",
            "None911\n",
            "welcome to our school\n",
            "name =  alfatih\n",
            "addres =  nyc\n",
            "phone number =  911\n"
          ]
        }
      ],
      "source": [
        "#blueprint of student\n",
        "class student:\n",
        "  def __init__(self,name,addres,phonenumber):\n",
        "    self.name = name\n",
        "    self.addres = addres\n",
        "    self.phonenumber = phonenumber\n",
        "  def welcome(self):\n",
        "    print('welcome to our school')\n",
        "    print('name = ', self.name)\n",
        "    print('addres = ', self.addres)\n",
        "    print('phone number = ', self.phonenumber)\n",
        "\n",
        "name = str(input(print('whats your name')))\n",
        "addres = str(input(print('whats your addres')))\n",
        "phonenumber = str(input(print('whats your phonenumber')))\n",
        "a = student(name,addres,phonenumber)\n",
        "a.welcome()"
      ]
    }
  ]
}