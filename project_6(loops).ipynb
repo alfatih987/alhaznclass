{
  "nbformat": 4,
  "nbformat_minor": 0,
  "metadata": {
    "colab": {
      "provenance": [],
      "authorship_tag": "ABX9TyP/PiHOWpDST33IsIpy8GAz",
      "include_colab_link": true
    },
    "kernelspec": {
      "name": "python3",
      "display_name": "Python 3"
    },
    "language_info": {
      "name": "python"
    }
  },
  "cells": [
    {
      "cell_type": "markdown",
      "metadata": {
        "id": "view-in-github",
        "colab_type": "text"
      },
      "source": [
        "<a href=\"https://colab.research.google.com/github/alfatih987/alhaznclass/blob/main/project_6(loops).ipynb\" target=\"_parent\"><img src=\"https://colab.research.google.com/assets/colab-badge.svg\" alt=\"Open In Colab\"/></a>"
      ]
    },
    {
      "cell_type": "code",
      "execution_count": 5,
      "metadata": {
        "colab": {
          "base_uri": "https://localhost:8080/"
        },
        "id": "UoSjADkx55IR",
        "outputId": "07008fce-6a46-4d1d-8278-73d0bd241ffc"
      },
      "outputs": [
        {
          "output_type": "stream",
          "name": "stdout",
          "text": [
            "input your first number\n",
            "None3\n",
            "input your second number\n",
            "None4\n",
            "b is greater than a\n"
          ]
        }
      ],
      "source": [
        "#if statement\n",
        "a = int(input(print('input your first number')))\n",
        "b = int(input(print('input your second number')))\n",
        "if a > b: print('a is greater than b')\n",
        "\n",
        "else: print('b is greater than a')"
      ]
    },
    {
      "cell_type": "code",
      "source": [
        "i = 1\n",
        "while i < 20:\n",
        "  print(i)\n",
        "  i += 2\n",
        "else:\n",
        "  print('i is stop')"
      ],
      "metadata": {
        "colab": {
          "base_uri": "https://localhost:8080/"
        },
        "id": "YST6iDNT7OMQ",
        "outputId": "869aa869-4cad-404a-d4c2-272147c4211d"
      },
      "execution_count": 14,
      "outputs": [
        {
          "output_type": "stream",
          "name": "stdout",
          "text": [
            "1\n",
            "3\n",
            "5\n",
            "7\n",
            "9\n",
            "11\n",
            "13\n",
            "15\n",
            "17\n",
            "19\n",
            "i is stop\n"
          ]
        }
      ]
    },
    {
      "cell_type": "code",
      "source": [
        "#range loop\n",
        "for i in range(15):\n",
        "  print(i)\n",
        "for a in range(3, 16):\n",
        "  print(a)\n",
        "for d in range(2, 11, 3):\n",
        "  print(d)\n"
      ],
      "metadata": {
        "colab": {
          "base_uri": "https://localhost:8080/"
        },
        "id": "QUn3kCLg8MC8",
        "outputId": "2ef031c7-7a7e-4ca3-b425-4dcc06ac60dc"
      },
      "execution_count": 18,
      "outputs": [
        {
          "output_type": "stream",
          "name": "stdout",
          "text": [
            "0\n",
            "1\n",
            "2\n",
            "3\n",
            "4\n",
            "5\n",
            "6\n",
            "7\n",
            "8\n",
            "9\n",
            "10\n",
            "11\n",
            "12\n",
            "13\n",
            "14\n",
            "3\n",
            "4\n",
            "5\n",
            "6\n",
            "7\n",
            "8\n",
            "9\n",
            "10\n",
            "11\n",
            "12\n",
            "13\n",
            "14\n",
            "15\n",
            "2\n",
            "5\n",
            "8\n"
          ]
        }
      ]
    },
    {
      "cell_type": "code",
      "source": [
        "#nested loop\n",
        "a = ['valorant','roblox','minecraft']\n",
        "b = ['PC','PS','XBOX']\n",
        "for c in a:\n",
        "  for d in b:\n",
        "    print(c, d)"
      ],
      "metadata": {
        "colab": {
          "base_uri": "https://localhost:8080/"
        },
        "id": "4iTXqCq_9e31",
        "outputId": "3772acf9-ba37-468b-de87-600e1fe941a1"
      },
      "execution_count": 20,
      "outputs": [
        {
          "output_type": "stream",
          "name": "stdout",
          "text": [
            "valorant PC\n",
            "valorant PS\n",
            "valorant XBOX\n",
            "roblox PC\n",
            "roblox PS\n",
            "roblox XBOX\n",
            "minecraft PC\n",
            "minecraft PS\n",
            "minecraft XBOX\n"
          ]
        }
      ]
    }
  ]
}