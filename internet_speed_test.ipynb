{
  "nbformat": 4,
  "nbformat_minor": 0,
  "metadata": {
    "colab": {
      "provenance": [],
      "authorship_tag": "ABX9TyMm8uCzkrRpdh0upUASMGFf",
      "include_colab_link": true
    },
    "kernelspec": {
      "name": "python3",
      "display_name": "Python 3"
    },
    "language_info": {
      "name": "python"
    }
  },
  "cells": [
    {
      "cell_type": "markdown",
      "metadata": {
        "id": "view-in-github",
        "colab_type": "text"
      },
      "source": [
        "<a href=\"https://colab.research.google.com/github/alfatih987/alhaznclass/blob/main/internet_speed_test.ipynb\" target=\"_parent\"><img src=\"https://colab.research.google.com/assets/colab-badge.svg\" alt=\"Open In Colab\"/></a>"
      ]
    },
    {
      "cell_type": "code",
      "execution_count": 3,
      "metadata": {
        "colab": {
          "base_uri": "https://localhost:8080/"
        },
        "id": "xHJVHuIPKeaV",
        "outputId": "e90a4611-acd9-4f04-cd14-5db3d2a1abfe"
      },
      "outputs": [
        {
          "output_type": "stream",
          "name": "stdout",
          "text": [
            "internet speed test\n",
            "welcome to internet speed test\n",
            "pls input your internet speed\n",
            "None16\n",
            "your internet is bad\n"
          ]
        }
      ],
      "source": [
        "print('internet speed test')\n",
        "print('welcome to internet speed test')\n",
        "a = int(input(print('pls input your internet speed')))\n",
        "while a > 0:\n",
        "  if (a >= 25):\n",
        "    print('your internet is good, you can watch netflix')\n",
        "    break\n",
        "  elif (a < 25 & a > 20):\n",
        "    print('your internet is normal, you can play your games')\n",
        "    brak\n",
        "  elif (a < 20 & a > 15):\n",
        "    print('you can open twitter')\n",
        "    break\n",
        "  elif (a < 15 & a > 10):\n",
        "    print('your internet is weak')\n",
        "    break\n",
        "  else:\n",
        "    print('your internet is bad')\n",
        "    break\n"
      ]
    }
  ]
}