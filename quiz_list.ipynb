{
  "nbformat": 4,
  "nbformat_minor": 0,
  "metadata": {
    "colab": {
      "provenance": [],
      "authorship_tag": "ABX9TyO4tGI1m8R/snnvN1MCi9ah",
      "include_colab_link": true
    },
    "kernelspec": {
      "name": "python3",
      "display_name": "Python 3"
    },
    "language_info": {
      "name": "python"
    }
  },
  "cells": [
    {
      "cell_type": "markdown",
      "metadata": {
        "id": "view-in-github",
        "colab_type": "text"
      },
      "source": [
        "<a href=\"https://colab.research.google.com/github/alfatih987/alhaznclass/blob/main/quiz_list.ipynb\" target=\"_parent\"><img src=\"https://colab.research.google.com/assets/colab-badge.svg\" alt=\"Open In Colab\"/></a>"
      ]
    },
    {
      "cell_type": "code",
      "execution_count": 3,
      "metadata": {
        "colab": {
          "base_uri": "https://localhost:8080/"
        },
        "id": "_v8cRysJINX5",
        "outputId": "10e814c6-ab25-48e3-9e62-0ce05d0f47d6"
      },
      "outputs": [
        {
          "output_type": "stream",
          "name": "stdout",
          "text": [
            "['cat', 'fox', 'owl'] 3\n"
          ]
        }
      ],
      "source": [
        "a = ['cat','fox','owl']\n",
        "b = len(a)\n",
        "print(a, b)"
      ]
    },
    {
      "cell_type": "code",
      "source": [
        "a = ['apple','grapes','banana']\n",
        "b = a.copy()\n",
        "b.append('water melon')\n",
        "print(a, b)\n",
        "c = ['apple','grapes','banana']\n",
        "c.append('strawberry')\n",
        "print(c)"
      ],
      "metadata": {
        "colab": {
          "base_uri": "https://localhost:8080/"
        },
        "id": "zJNPARtcI2wv",
        "outputId": "eab8f700-bbde-4ff8-d277-2356f0640038"
      },
      "execution_count": 8,
      "outputs": [
        {
          "output_type": "stream",
          "name": "stdout",
          "text": [
            "['apple', 'grapes', 'banana'] ['apple', 'grapes', 'banana', 'water melon']\n",
            "['apple', 'grapes', 'banana', 'strawberry']\n"
          ]
        }
      ]
    },
    {
      "cell_type": "code",
      "source": [
        "a = ['cat','cat','fox','fox','fox']\n",
        "b = a.count('fox')\n",
        "c = a.count('cat')\n",
        "print(a, b, c)"
      ],
      "metadata": {
        "colab": {
          "base_uri": "https://localhost:8080/"
        },
        "id": "ZGxa9AuaJvX5",
        "outputId": "3dc9f0ba-602e-4270-835a-5920a3867136"
      },
      "execution_count": 13,
      "outputs": [
        {
          "output_type": "stream",
          "name": "stdout",
          "text": [
            "['cat', 'cat', 'fox', 'fox', 'fox'] 3 2\n"
          ]
        }
      ]
    }
  ]
}