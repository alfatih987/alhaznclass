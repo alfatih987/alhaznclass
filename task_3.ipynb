{
  "nbformat": 4,
  "nbformat_minor": 0,
  "metadata": {
    "colab": {
      "provenance": [],
      "authorship_tag": "ABX9TyNDk+OdjOtOwtbyQw6G6jO7",
      "include_colab_link": true
    },
    "kernelspec": {
      "name": "python3",
      "display_name": "Python 3"
    },
    "language_info": {
      "name": "python"
    }
  },
  "cells": [
    {
      "cell_type": "markdown",
      "metadata": {
        "id": "view-in-github",
        "colab_type": "text"
      },
      "source": [
        "<a href=\"https://colab.research.google.com/github/alfatih987/alhaznclass/blob/main/task_3.ipynb\" target=\"_parent\"><img src=\"https://colab.research.google.com/assets/colab-badge.svg\" alt=\"Open In Colab\"/></a>"
      ]
    },
    {
      "cell_type": "code",
      "execution_count": 19,
      "metadata": {
        "colab": {
          "base_uri": "https://localhost:8080/"
        },
        "id": "AS2OD5HfA6Ai",
        "outputId": "a1f76e98-e85e-4204-cb7d-1ef445424241"
      },
      "outputs": [
        {
          "output_type": "execute_result",
          "data": {
            "text/plain": [
              "0"
            ]
          },
          "metadata": {},
          "execution_count": 19
        }
      ],
      "source": [
        "#task\n",
        "a = [\"Buah\", \" Salak Baik untuk Mata\", \"Buah\",\" Salak Kaya Potasium\", \n",
        "\"Buah\",\" Jeruk Kaya Vitamin C\", \"Buah\",\" Salak Kaya Manfaat\", \n",
        "\"Salak Baik untuk Jantung\", \"Jeruk dapat Memperkuat Tulang\", \n",
        "\"Jeruk Mencegah Penyakit Asma\", \"Jeruk Memperkuat Gigi\", \n",
        "\"Jeruk Mencegah Kolesterol Jahat\", \"Salak Mencegah Diabetes\", \n",
        "\"Salak Memperkuat Dinding Usus\", \"Salak Baik untuk Darah\",\n",
        "\"Jeruk Kaya Manfaat untuk Jantung\", \"Salak si Kecil yang Baik\", \n",
        "\"Jeruk dan Salak\", \"Buah\",\" Kaya Manfaat\", \"Buah\",\" Jeruk Enak\",\n",
        "\"Tips Panen Jeruk Ribuan Kilo\", \"Tips Bertanam Salak\", \n",
        "\"Salak Manis untuk Berbuka\", \"Jeruk Baik untuk Wajah\"]\n",
        "a.count(\"Buah\")\n",
        "a.count(\"Salak\")\n",
        "a.count(\"Jeruk\")"
      ]
    },
    {
      "cell_type": "code",
      "source": [
        "a = [\"Buah Salak Baik untuk Mata\", \"Buah Salak Kaya Potasium\", \n",
        "\"Buah Jeruk Kaya Vitamin C\", \"Buah Salak Kaya Manfaat\", \n",
        "\"Salak Baik untuk Jantung\", \"Jeruk dapat Memperkuat Tulang\", \n",
        "\"Jeruk Mencegah Penyakit Asma\", \"Jeruk Memperkuat Gigi\", \n",
        "\"Jeruk Mencegah Kolesterol Jahat\", \"Salak Mencegah Diabetes\", \n",
        "\"Salak Memperkuat Dinding Usus\", \"Salak Baik untuk Darah\",\n",
        "\"Jeruk Kaya Manfaat untuk Jantung\", \"Salak si Kecil yang Baik\", \n",
        "\"Jeruk dan Salak Buah Kaya Manfaat\", \"Buah Jeruk Enak\",\n",
        "\"Tips Panen Jeruk Ribuan Kilo\", \"Tips Bertanam Salak\", \n",
        "\"Salak Manis untuk Berbuka\", \"Jeruk Baik untuk Wajah\"] \n",
        "buah = 0\n",
        "jeruk = 0\n",
        "salak = 0\n",
        "for i in a:\n",
        "  if i.count('Buah') > 0:\n",
        "    buah += 1\n",
        "  if i.count('Jeruk') > 0:\n",
        "    jeruk += 1\n",
        "  if i.count('Salak') > 0:\n",
        "    salak += 1\n",
        "print(buah)\n",
        "print(salak)\n",
        "print(jeruk)"
      ],
      "metadata": {
        "colab": {
          "base_uri": "https://localhost:8080/"
        },
        "id": "222ZV83kEH_7",
        "outputId": "17fa5e0c-004a-4200-ad6e-5435d722d115"
      },
      "execution_count": 22,
      "outputs": [
        {
          "output_type": "stream",
          "name": "stdout",
          "text": [
            "6\n",
            "11\n",
            "10\n"
          ]
        }
      ]
    },
    {
      "cell_type": "code",
      "source": [
        "\n",
        "a = [2, 2.5, 2.25, 2.5, 3.2, 2.5, 3.5, 4, 3]\n",
        "b = [7.8, 7.5, 9, 7.6, 7.2, 7.5, 7, 10, 7.5]\n",
        "c = (2 + 2.5 + 2.25 + 2.5 + 3.2 + 2.5 + 3.5 + 4 + 3) / 9\n",
        "d = (7.8 + 7.5 + 9 + 7.6 + 7.2 + 7.5 + 7 + 10 + 7.5) / 9\n",
        "print('pengeluaran anda adalah', c)\n",
        "print('pemasukan anda adalah', d)"
      ],
      "metadata": {
        "colab": {
          "base_uri": "https://localhost:8080/"
        },
        "id": "yw7u8FdZEAxU",
        "outputId": "374e1fe6-5b9b-4f9b-aed0-4fc19dae04ae"
      },
      "execution_count": 7,
      "outputs": [
        {
          "output_type": "stream",
          "name": "stdout",
          "text": [
            "pengeluaran anda adalah 2.8277777777777775\n",
            "pemasukan anda adalah 7.8999999999999995\n"
          ]
        }
      ]
    },
    {
      "cell_type": "code",
      "source": [
        "a = {'pengeluaran': [2, 2.5, 2.25, 2.5, 3.2, 2.5, 3.5, 4, 3],\n",
        "'pemasukan': [7.8, 7.5, 9, 7.6, 7.2, 7.5, 7, 10, 7.5]\n",
        "}\n",
        "b = 0\n",
        "c = 0\n",
        "for i in (a[\"pengeluaran\"]):\n",
        "  b += i\n",
        "for i in (a[\"pemasukan\"]):\n",
        "  c += i\n",
        "d = b/len(a[\"pengeluaran\"])\n",
        "e = c/len(a[\"pemasukan\"])\n",
        "print(d , e)"
      ],
      "metadata": {
        "colab": {
          "base_uri": "https://localhost:8080/"
        },
        "id": "66ujRtXuLKaQ",
        "outputId": "6baa6692-3dd0-477e-bdae-626e9844179f"
      },
      "execution_count": 15,
      "outputs": [
        {
          "output_type": "stream",
          "name": "stdout",
          "text": [
            "2.8277777777777775 7.8999999999999995\n"
          ]
        }
      ]
    }
  ]
}